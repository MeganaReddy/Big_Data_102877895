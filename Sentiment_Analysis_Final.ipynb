{
  "nbformat": 4,
  "nbformat_minor": 0,
  "metadata": {
    "kernelspec": {
      "display_name": "Python 3",
      "language": "python",
      "name": "python3"
    },
    "language_info": {
      "codemirror_mode": {
        "name": "ipython",
        "version": 3
      },
      "file_extension": ".py",
      "mimetype": "text/x-python",
      "name": "python",
      "nbconvert_exporter": "python",
      "pygments_lexer": "ipython3",
      "version": "3.8.5"
    },
    "colab": {
      "name": "Sentiment_Analysis.ipynb",
      "provenance": [],
      "collapsed_sections": []
    }
  },
  "cells": [
    {
      "cell_type": "markdown",
      "metadata": {
        "id": "rAu9rOfd8wBp"
      },
      "source": [
        "# Data Acquisition"
      ]
    },
    {
      "cell_type": "code",
      "metadata": {
        "id": "0BT5nvUF8wBr"
      },
      "source": [
        "import pandas as pd\n",
        "import numpy as np\n",
        "import re\n",
        "import nltk\n",
        "from sklearn.model_selection import train_test_split\n",
        "from sklearn.feature_extraction.text import CountVectorizer\n",
        "from sklearn.feature_extraction.text import TfidfVectorizer\n",
        "from sklearn.naive_bayes import MultinomialNB\n",
        "from sklearn.linear_model import LogisticRegression\n",
        "from sklearn.ensemble import RandomForestClassifier, GradientBoostingClassifier\n",
        "import xgboost as xgb\n",
        "from sklearn.svm import SVC\n",
        "from sklearn.metrics import classification_report, accuracy_score\n",
        "import seaborn as sns\n",
        "import matplotlib.pyplot as plt"
      ],
      "execution_count": 113,
      "outputs": []
    },
    {
      "cell_type": "code",
      "metadata": {
        "colab": {
          "base_uri": "https://localhost:8080/"
        },
        "id": "RZIK2z8Q8wBs",
        "outputId": "4f712ce4-843f-4835-b3fd-9aa9695e31ce"
      },
      "source": [
        "nltk.download('popular')"
      ],
      "execution_count": 114,
      "outputs": [
        {
          "output_type": "stream",
          "name": "stdout",
          "text": [
            "[nltk_data] Downloading collection 'popular'\n",
            "[nltk_data]    | \n",
            "[nltk_data]    | Downloading package cmudict to /root/nltk_data...\n",
            "[nltk_data]    |   Package cmudict is already up-to-date!\n",
            "[nltk_data]    | Downloading package gazetteers to /root/nltk_data...\n",
            "[nltk_data]    |   Package gazetteers is already up-to-date!\n",
            "[nltk_data]    | Downloading package genesis to /root/nltk_data...\n",
            "[nltk_data]    |   Package genesis is already up-to-date!\n",
            "[nltk_data]    | Downloading package gutenberg to /root/nltk_data...\n",
            "[nltk_data]    |   Package gutenberg is already up-to-date!\n",
            "[nltk_data]    | Downloading package inaugural to /root/nltk_data...\n",
            "[nltk_data]    |   Package inaugural is already up-to-date!\n",
            "[nltk_data]    | Downloading package movie_reviews to\n",
            "[nltk_data]    |     /root/nltk_data...\n",
            "[nltk_data]    |   Package movie_reviews is already up-to-date!\n",
            "[nltk_data]    | Downloading package names to /root/nltk_data...\n",
            "[nltk_data]    |   Package names is already up-to-date!\n",
            "[nltk_data]    | Downloading package shakespeare to /root/nltk_data...\n",
            "[nltk_data]    |   Package shakespeare is already up-to-date!\n",
            "[nltk_data]    | Downloading package stopwords to /root/nltk_data...\n",
            "[nltk_data]    |   Package stopwords is already up-to-date!\n",
            "[nltk_data]    | Downloading package treebank to /root/nltk_data...\n",
            "[nltk_data]    |   Package treebank is already up-to-date!\n",
            "[nltk_data]    | Downloading package twitter_samples to\n",
            "[nltk_data]    |     /root/nltk_data...\n",
            "[nltk_data]    |   Package twitter_samples is already up-to-date!\n",
            "[nltk_data]    | Downloading package omw to /root/nltk_data...\n",
            "[nltk_data]    |   Package omw is already up-to-date!\n",
            "[nltk_data]    | Downloading package wordnet to /root/nltk_data...\n",
            "[nltk_data]    |   Package wordnet is already up-to-date!\n",
            "[nltk_data]    | Downloading package wordnet31 to /root/nltk_data...\n",
            "[nltk_data]    |   Package wordnet31 is already up-to-date!\n",
            "[nltk_data]    | Downloading package wordnet_ic to /root/nltk_data...\n",
            "[nltk_data]    |   Package wordnet_ic is already up-to-date!\n",
            "[nltk_data]    | Downloading package words to /root/nltk_data...\n",
            "[nltk_data]    |   Package words is already up-to-date!\n",
            "[nltk_data]    | Downloading package maxent_ne_chunker to\n",
            "[nltk_data]    |     /root/nltk_data...\n",
            "[nltk_data]    |   Package maxent_ne_chunker is already up-to-date!\n",
            "[nltk_data]    | Downloading package punkt to /root/nltk_data...\n",
            "[nltk_data]    |   Package punkt is already up-to-date!\n",
            "[nltk_data]    | Downloading package snowball_data to\n",
            "[nltk_data]    |     /root/nltk_data...\n",
            "[nltk_data]    |   Package snowball_data is already up-to-date!\n",
            "[nltk_data]    | Downloading package averaged_perceptron_tagger to\n",
            "[nltk_data]    |     /root/nltk_data...\n",
            "[nltk_data]    |   Package averaged_perceptron_tagger is already up-\n",
            "[nltk_data]    |       to-date!\n",
            "[nltk_data]    | \n",
            "[nltk_data]  Done downloading collection popular\n"
          ]
        },
        {
          "output_type": "execute_result",
          "data": {
            "text/plain": [
              "True"
            ]
          },
          "metadata": {},
          "execution_count": 114
        }
      ]
    },
    {
      "cell_type": "code",
      "metadata": {
        "id": "uzB1Blv88wBt"
      },
      "source": [
        "from nltk.corpus import stopwords\n",
        "from nltk.tokenize import word_tokenize\n",
        "from nltk.stem import WordNetLemmatizer"
      ],
      "execution_count": 115,
      "outputs": []
    },
    {
      "cell_type": "code",
      "metadata": {
        "id": "s_prayp59L_0"
      },
      "source": [
        "import tensorflow as tf\n",
        "from tensorflow import keras\n",
        "from keras.preprocessing.text import Tokenizer\n",
        "from keras.models import Sequential\n",
        "from keras.layers import Dense\n",
        "from keras.layers import Embedding\n",
        "from keras.layers import SpatialDropout1D\n",
        "from keras.layers import LSTM\n",
        "from keras.callbacks import EarlyStopping\n",
        "from keras.layers import Bidirectional\n",
        "from keras.layers import Dropout\n",
        "from keras.preprocessing.sequence import pad_sequences"
      ],
      "execution_count": 116,
      "outputs": []
    },
    {
      "cell_type": "code",
      "metadata": {
        "colab": {
          "base_uri": "https://localhost:8080/",
          "height": 289
        },
        "id": "BUrtwiqh8wBu",
        "outputId": "cadded72-dfb9-453e-f2be-8108f933df10"
      },
      "source": [
        "df = pd.read_csv(\"/content/Restaurant reviews.csv\")\n",
        "df.head()"
      ],
      "execution_count": 117,
      "outputs": [
        {
          "output_type": "execute_result",
          "data": {
            "text/html": [
              "<div>\n",
              "<style scoped>\n",
              "    .dataframe tbody tr th:only-of-type {\n",
              "        vertical-align: middle;\n",
              "    }\n",
              "\n",
              "    .dataframe tbody tr th {\n",
              "        vertical-align: top;\n",
              "    }\n",
              "\n",
              "    .dataframe thead th {\n",
              "        text-align: right;\n",
              "    }\n",
              "</style>\n",
              "<table border=\"1\" class=\"dataframe\">\n",
              "  <thead>\n",
              "    <tr style=\"text-align: right;\">\n",
              "      <th></th>\n",
              "      <th>Restaurant</th>\n",
              "      <th>Reviewer</th>\n",
              "      <th>Review</th>\n",
              "      <th>Rating</th>\n",
              "      <th>Metadata</th>\n",
              "      <th>Time</th>\n",
              "      <th>Pictures</th>\n",
              "    </tr>\n",
              "  </thead>\n",
              "  <tbody>\n",
              "    <tr>\n",
              "      <th>0</th>\n",
              "      <td>Beyond Flavours</td>\n",
              "      <td>Rusha Chakraborty</td>\n",
              "      <td>The ambience was good, food was quite good . h...</td>\n",
              "      <td>5</td>\n",
              "      <td>1 Review , 2 Followers</td>\n",
              "      <td>5/25/2019 15:54</td>\n",
              "      <td>0</td>\n",
              "    </tr>\n",
              "    <tr>\n",
              "      <th>1</th>\n",
              "      <td>Beyond Flavours</td>\n",
              "      <td>Anusha Tirumalaneedi</td>\n",
              "      <td>Ambience is too good for a pleasant evening. S...</td>\n",
              "      <td>5</td>\n",
              "      <td>3 Reviews , 2 Followers</td>\n",
              "      <td>5/25/2019 14:20</td>\n",
              "      <td>0</td>\n",
              "    </tr>\n",
              "    <tr>\n",
              "      <th>2</th>\n",
              "      <td>Beyond Flavours</td>\n",
              "      <td>Ashok Shekhawat</td>\n",
              "      <td>A must try.. great food great ambience. Thnx f...</td>\n",
              "      <td>5</td>\n",
              "      <td>2 Reviews , 3 Followers</td>\n",
              "      <td>5/24/2019 22:54</td>\n",
              "      <td>0</td>\n",
              "    </tr>\n",
              "    <tr>\n",
              "      <th>3</th>\n",
              "      <td>Beyond Flavours</td>\n",
              "      <td>Swapnil Sarkar</td>\n",
              "      <td>Soumen das and Arun was a great guy. Only beca...</td>\n",
              "      <td>5</td>\n",
              "      <td>1 Review , 1 Follower</td>\n",
              "      <td>5/24/2019 22:11</td>\n",
              "      <td>0</td>\n",
              "    </tr>\n",
              "    <tr>\n",
              "      <th>4</th>\n",
              "      <td>Beyond Flavours</td>\n",
              "      <td>Dileep</td>\n",
              "      <td>Food is good.we ordered Kodi drumsticks and ba...</td>\n",
              "      <td>5</td>\n",
              "      <td>3 Reviews , 2 Followers</td>\n",
              "      <td>5/24/2019 21:37</td>\n",
              "      <td>0</td>\n",
              "    </tr>\n",
              "  </tbody>\n",
              "</table>\n",
              "</div>"
            ],
            "text/plain": [
              "        Restaurant              Reviewer  ...             Time Pictures\n",
              "0  Beyond Flavours     Rusha Chakraborty  ...  5/25/2019 15:54        0\n",
              "1  Beyond Flavours  Anusha Tirumalaneedi  ...  5/25/2019 14:20        0\n",
              "2  Beyond Flavours       Ashok Shekhawat  ...  5/24/2019 22:54        0\n",
              "3  Beyond Flavours        Swapnil Sarkar  ...  5/24/2019 22:11        0\n",
              "4  Beyond Flavours                Dileep  ...  5/24/2019 21:37        0\n",
              "\n",
              "[5 rows x 7 columns]"
            ]
          },
          "metadata": {},
          "execution_count": 117
        }
      ]
    },
    {
      "cell_type": "code",
      "metadata": {
        "colab": {
          "base_uri": "https://localhost:8080/"
        },
        "id": "akmP25cP8wBu",
        "outputId": "0905132a-53f8-4da5-e737-cc0d979a0c44"
      },
      "source": [
        "print(df[\"Review\"][2])"
      ],
      "execution_count": 118,
      "outputs": [
        {
          "output_type": "stream",
          "name": "stdout",
          "text": [
            "A must try.. great food great ambience. Thnx for the service by Pradeep and Subroto. My personal recommendation is Penne Alfredo Pasta:) ....... Also the music in the background is amazing.\n"
          ]
        }
      ]
    },
    {
      "cell_type": "code",
      "metadata": {
        "colab": {
          "base_uri": "https://localhost:8080/"
        },
        "id": "NIWAYqE78wBv",
        "outputId": "0056c273-5186-45e7-c7cb-1db800813efb"
      },
      "source": [
        "df.shape"
      ],
      "execution_count": 119,
      "outputs": [
        {
          "output_type": "execute_result",
          "data": {
            "text/plain": [
              "(10000, 7)"
            ]
          },
          "metadata": {},
          "execution_count": 119
        }
      ]
    },
    {
      "cell_type": "markdown",
      "metadata": {
        "id": "GytP_1oQ8wBv"
      },
      "source": [
        "# Data Pre-processing"
      ]
    },
    {
      "cell_type": "code",
      "metadata": {
        "colab": {
          "base_uri": "https://localhost:8080/"
        },
        "id": "T0mauYEz8wBw",
        "outputId": "ef1ecab3-7cd0-4836-b212-da024b4472ef"
      },
      "source": [
        "df.dtypes"
      ],
      "execution_count": 120,
      "outputs": [
        {
          "output_type": "execute_result",
          "data": {
            "text/plain": [
              "Restaurant    object\n",
              "Reviewer      object\n",
              "Review        object\n",
              "Rating        object\n",
              "Metadata      object\n",
              "Time          object\n",
              "Pictures       int64\n",
              "dtype: object"
            ]
          },
          "metadata": {},
          "execution_count": 120
        }
      ]
    },
    {
      "cell_type": "code",
      "metadata": {
        "colab": {
          "base_uri": "https://localhost:8080/"
        },
        "id": "jOzz4yzX8wBw",
        "outputId": "70b5c600-7f69-41ce-c77b-2496a4ed9585"
      },
      "source": [
        "# Checking for null values\n",
        "df.isnull().sum()"
      ],
      "execution_count": 121,
      "outputs": [
        {
          "output_type": "execute_result",
          "data": {
            "text/plain": [
              "Restaurant     0\n",
              "Reviewer      38\n",
              "Review        45\n",
              "Rating        38\n",
              "Metadata      38\n",
              "Time          38\n",
              "Pictures       0\n",
              "dtype: int64"
            ]
          },
          "metadata": {},
          "execution_count": 121
        }
      ]
    },
    {
      "cell_type": "code",
      "metadata": {
        "colab": {
          "base_uri": "https://localhost:8080/"
        },
        "id": "HZLFblEP8wBx",
        "outputId": "3368fe5b-bead-4e5c-defe-3f530b067d73"
      },
      "source": [
        "# Deleting null values:\n",
        "df = df.dropna()\n",
        "df.shape"
      ],
      "execution_count": 122,
      "outputs": [
        {
          "output_type": "execute_result",
          "data": {
            "text/plain": [
              "(9955, 7)"
            ]
          },
          "metadata": {},
          "execution_count": 122
        }
      ]
    },
    {
      "cell_type": "code",
      "metadata": {
        "colab": {
          "base_uri": "https://localhost:8080/"
        },
        "id": "fKLHVOE28wBx",
        "outputId": "d84c1883-c692-413e-8b34-4d8664e5f9bc"
      },
      "source": [
        "# Checking various values present in the column\n",
        "df[\"Rating\"].value_counts()"
      ],
      "execution_count": 123,
      "outputs": [
        {
          "output_type": "execute_result",
          "data": {
            "text/plain": [
              "5       3826\n",
              "4       2373\n",
              "1       1735\n",
              "3       1192\n",
              "2        684\n",
              "4.5       69\n",
              "3.5       47\n",
              "2.5       19\n",
              "1.5        9\n",
              "Like       1\n",
              "Name: Rating, dtype: int64"
            ]
          },
          "metadata": {},
          "execution_count": 123
        }
      ]
    },
    {
      "cell_type": "code",
      "metadata": {
        "colab": {
          "base_uri": "https://localhost:8080/"
        },
        "id": "YsSgtPg48wBy",
        "outputId": "bad9fca0-24b7-48fd-88b7-76a3b12a3f87"
      },
      "source": [
        "# Replacing 'Like' with 5 rating\n",
        "df[\"Rating\"] = df[\"Rating\"].replace(\"Like\", 5)"
      ],
      "execution_count": 124,
      "outputs": [
        {
          "output_type": "stream",
          "name": "stderr",
          "text": [
            "/usr/local/lib/python3.7/dist-packages/ipykernel_launcher.py:2: SettingWithCopyWarning: \n",
            "A value is trying to be set on a copy of a slice from a DataFrame.\n",
            "Try using .loc[row_indexer,col_indexer] = value instead\n",
            "\n",
            "See the caveats in the documentation: https://pandas.pydata.org/pandas-docs/stable/user_guide/indexing.html#returning-a-view-versus-a-copy\n",
            "  \n"
          ]
        }
      ]
    },
    {
      "cell_type": "code",
      "metadata": {
        "colab": {
          "base_uri": "https://localhost:8080/"
        },
        "id": "MpE5Q4qC8wBy",
        "outputId": "3196d386-63d2-40a5-baf6-29088b3882d3"
      },
      "source": [
        "# Converting to float type\n",
        "df[\"Rating\"] = df[\"Rating\"].astype(\"float\")"
      ],
      "execution_count": 125,
      "outputs": [
        {
          "output_type": "stream",
          "name": "stderr",
          "text": [
            "/usr/local/lib/python3.7/dist-packages/ipykernel_launcher.py:2: SettingWithCopyWarning: \n",
            "A value is trying to be set on a copy of a slice from a DataFrame.\n",
            "Try using .loc[row_indexer,col_indexer] = value instead\n",
            "\n",
            "See the caveats in the documentation: https://pandas.pydata.org/pandas-docs/stable/user_guide/indexing.html#returning-a-view-versus-a-copy\n",
            "  \n"
          ]
        }
      ]
    },
    {
      "cell_type": "code",
      "metadata": {
        "colab": {
          "base_uri": "https://localhost:8080/",
          "height": 204
        },
        "id": "VYF7eTnr8wBy",
        "outputId": "b3774612-00eb-47a0-ea4d-23e98c1c7752"
      },
      "source": [
        "# Taking a part of the data for sentiment analysis\n",
        "ratings = df[[\"Review\", \"Rating\"]]\n",
        "ratings.head()"
      ],
      "execution_count": 126,
      "outputs": [
        {
          "output_type": "execute_result",
          "data": {
            "text/html": [
              "<div>\n",
              "<style scoped>\n",
              "    .dataframe tbody tr th:only-of-type {\n",
              "        vertical-align: middle;\n",
              "    }\n",
              "\n",
              "    .dataframe tbody tr th {\n",
              "        vertical-align: top;\n",
              "    }\n",
              "\n",
              "    .dataframe thead th {\n",
              "        text-align: right;\n",
              "    }\n",
              "</style>\n",
              "<table border=\"1\" class=\"dataframe\">\n",
              "  <thead>\n",
              "    <tr style=\"text-align: right;\">\n",
              "      <th></th>\n",
              "      <th>Review</th>\n",
              "      <th>Rating</th>\n",
              "    </tr>\n",
              "  </thead>\n",
              "  <tbody>\n",
              "    <tr>\n",
              "      <th>0</th>\n",
              "      <td>The ambience was good, food was quite good . h...</td>\n",
              "      <td>5.0</td>\n",
              "    </tr>\n",
              "    <tr>\n",
              "      <th>1</th>\n",
              "      <td>Ambience is too good for a pleasant evening. S...</td>\n",
              "      <td>5.0</td>\n",
              "    </tr>\n",
              "    <tr>\n",
              "      <th>2</th>\n",
              "      <td>A must try.. great food great ambience. Thnx f...</td>\n",
              "      <td>5.0</td>\n",
              "    </tr>\n",
              "    <tr>\n",
              "      <th>3</th>\n",
              "      <td>Soumen das and Arun was a great guy. Only beca...</td>\n",
              "      <td>5.0</td>\n",
              "    </tr>\n",
              "    <tr>\n",
              "      <th>4</th>\n",
              "      <td>Food is good.we ordered Kodi drumsticks and ba...</td>\n",
              "      <td>5.0</td>\n",
              "    </tr>\n",
              "  </tbody>\n",
              "</table>\n",
              "</div>"
            ],
            "text/plain": [
              "                                              Review  Rating\n",
              "0  The ambience was good, food was quite good . h...     5.0\n",
              "1  Ambience is too good for a pleasant evening. S...     5.0\n",
              "2  A must try.. great food great ambience. Thnx f...     5.0\n",
              "3  Soumen das and Arun was a great guy. Only beca...     5.0\n",
              "4  Food is good.we ordered Kodi drumsticks and ba...     5.0"
            ]
          },
          "metadata": {},
          "execution_count": 126
        }
      ]
    },
    {
      "cell_type": "code",
      "metadata": {
        "colab": {
          "base_uri": "https://localhost:8080/"
        },
        "id": "EWT8Xays8wBz",
        "outputId": "d49b3b0e-8f7b-439c-a1c3-bd000b46077f"
      },
      "source": [
        "# Checking data types\n",
        "ratings.dtypes"
      ],
      "execution_count": 127,
      "outputs": [
        {
          "output_type": "execute_result",
          "data": {
            "text/plain": [
              "Review     object\n",
              "Rating    float64\n",
              "dtype: object"
            ]
          },
          "metadata": {},
          "execution_count": 127
        }
      ]
    },
    {
      "cell_type": "code",
      "metadata": {
        "colab": {
          "base_uri": "https://localhost:8080/",
          "height": 326
        },
        "id": "CHKKGA878wBz",
        "outputId": "bb4c5c17-5502-46d9-a396-490aa4bc66aa"
      },
      "source": [
        "# Replacing all values under 4 with 0 and the rest with 1\n",
        "ratings[\"Rating\"] = np.where(ratings['Rating']<4, 0, 1)\n",
        "ratings.head()"
      ],
      "execution_count": 128,
      "outputs": [
        {
          "output_type": "stream",
          "name": "stderr",
          "text": [
            "/usr/local/lib/python3.7/dist-packages/ipykernel_launcher.py:2: SettingWithCopyWarning: \n",
            "A value is trying to be set on a copy of a slice from a DataFrame.\n",
            "Try using .loc[row_indexer,col_indexer] = value instead\n",
            "\n",
            "See the caveats in the documentation: https://pandas.pydata.org/pandas-docs/stable/user_guide/indexing.html#returning-a-view-versus-a-copy\n",
            "  \n"
          ]
        },
        {
          "output_type": "execute_result",
          "data": {
            "text/html": [
              "<div>\n",
              "<style scoped>\n",
              "    .dataframe tbody tr th:only-of-type {\n",
              "        vertical-align: middle;\n",
              "    }\n",
              "\n",
              "    .dataframe tbody tr th {\n",
              "        vertical-align: top;\n",
              "    }\n",
              "\n",
              "    .dataframe thead th {\n",
              "        text-align: right;\n",
              "    }\n",
              "</style>\n",
              "<table border=\"1\" class=\"dataframe\">\n",
              "  <thead>\n",
              "    <tr style=\"text-align: right;\">\n",
              "      <th></th>\n",
              "      <th>Review</th>\n",
              "      <th>Rating</th>\n",
              "    </tr>\n",
              "  </thead>\n",
              "  <tbody>\n",
              "    <tr>\n",
              "      <th>0</th>\n",
              "      <td>The ambience was good, food was quite good . h...</td>\n",
              "      <td>1</td>\n",
              "    </tr>\n",
              "    <tr>\n",
              "      <th>1</th>\n",
              "      <td>Ambience is too good for a pleasant evening. S...</td>\n",
              "      <td>1</td>\n",
              "    </tr>\n",
              "    <tr>\n",
              "      <th>2</th>\n",
              "      <td>A must try.. great food great ambience. Thnx f...</td>\n",
              "      <td>1</td>\n",
              "    </tr>\n",
              "    <tr>\n",
              "      <th>3</th>\n",
              "      <td>Soumen das and Arun was a great guy. Only beca...</td>\n",
              "      <td>1</td>\n",
              "    </tr>\n",
              "    <tr>\n",
              "      <th>4</th>\n",
              "      <td>Food is good.we ordered Kodi drumsticks and ba...</td>\n",
              "      <td>1</td>\n",
              "    </tr>\n",
              "  </tbody>\n",
              "</table>\n",
              "</div>"
            ],
            "text/plain": [
              "                                              Review  Rating\n",
              "0  The ambience was good, food was quite good . h...       1\n",
              "1  Ambience is too good for a pleasant evening. S...       1\n",
              "2  A must try.. great food great ambience. Thnx f...       1\n",
              "3  Soumen das and Arun was a great guy. Only beca...       1\n",
              "4  Food is good.we ordered Kodi drumsticks and ba...       1"
            ]
          },
          "metadata": {},
          "execution_count": 128
        }
      ]
    },
    {
      "cell_type": "code",
      "metadata": {
        "id": "9WBNzwzI8wB0"
      },
      "source": [
        "# Cleaning the reviews to get rid of white spaces and converting them to lower format\n",
        "clean = re.compile('[^a-z]+')\n",
        "\n",
        "def cleaning(text):\n",
        "    text = str(text)\n",
        "    text = text.lower() \n",
        "    #text = text.strip()  \n",
        "    text = clean.sub(' ', text).strip()\n",
        "    return text"
      ],
      "execution_count": 129,
      "outputs": []
    },
    {
      "cell_type": "code",
      "metadata": {
        "colab": {
          "base_uri": "https://localhost:8080/",
          "height": 326
        },
        "id": "CvQrohFt8wB0",
        "outputId": "36a68e84-7093-4e97-b99b-92e6bb6bf687"
      },
      "source": [
        "ratings['Review'] = ratings['Review'].apply(cleaning)\n",
        "ratings.head()"
      ],
      "execution_count": 130,
      "outputs": [
        {
          "output_type": "stream",
          "name": "stderr",
          "text": [
            "/usr/local/lib/python3.7/dist-packages/ipykernel_launcher.py:1: SettingWithCopyWarning: \n",
            "A value is trying to be set on a copy of a slice from a DataFrame.\n",
            "Try using .loc[row_indexer,col_indexer] = value instead\n",
            "\n",
            "See the caveats in the documentation: https://pandas.pydata.org/pandas-docs/stable/user_guide/indexing.html#returning-a-view-versus-a-copy\n",
            "  \"\"\"Entry point for launching an IPython kernel.\n"
          ]
        },
        {
          "output_type": "execute_result",
          "data": {
            "text/html": [
              "<div>\n",
              "<style scoped>\n",
              "    .dataframe tbody tr th:only-of-type {\n",
              "        vertical-align: middle;\n",
              "    }\n",
              "\n",
              "    .dataframe tbody tr th {\n",
              "        vertical-align: top;\n",
              "    }\n",
              "\n",
              "    .dataframe thead th {\n",
              "        text-align: right;\n",
              "    }\n",
              "</style>\n",
              "<table border=\"1\" class=\"dataframe\">\n",
              "  <thead>\n",
              "    <tr style=\"text-align: right;\">\n",
              "      <th></th>\n",
              "      <th>Review</th>\n",
              "      <th>Rating</th>\n",
              "    </tr>\n",
              "  </thead>\n",
              "  <tbody>\n",
              "    <tr>\n",
              "      <th>0</th>\n",
              "      <td>the ambience was good food was quite good had ...</td>\n",
              "      <td>1</td>\n",
              "    </tr>\n",
              "    <tr>\n",
              "      <th>1</th>\n",
              "      <td>ambience is too good for a pleasant evening se...</td>\n",
              "      <td>1</td>\n",
              "    </tr>\n",
              "    <tr>\n",
              "      <th>2</th>\n",
              "      <td>a must try great food great ambience thnx for ...</td>\n",
              "      <td>1</td>\n",
              "    </tr>\n",
              "    <tr>\n",
              "      <th>3</th>\n",
              "      <td>soumen das and arun was a great guy only becau...</td>\n",
              "      <td>1</td>\n",
              "    </tr>\n",
              "    <tr>\n",
              "      <th>4</th>\n",
              "      <td>food is good we ordered kodi drumsticks and ba...</td>\n",
              "      <td>1</td>\n",
              "    </tr>\n",
              "  </tbody>\n",
              "</table>\n",
              "</div>"
            ],
            "text/plain": [
              "                                              Review  Rating\n",
              "0  the ambience was good food was quite good had ...       1\n",
              "1  ambience is too good for a pleasant evening se...       1\n",
              "2  a must try great food great ambience thnx for ...       1\n",
              "3  soumen das and arun was a great guy only becau...       1\n",
              "4  food is good we ordered kodi drumsticks and ba...       1"
            ]
          },
          "metadata": {},
          "execution_count": 130
        }
      ]
    },
    {
      "cell_type": "code",
      "metadata": {
        "id": "jqtfJdVN8wB1"
      },
      "source": [
        "def processing(text):\n",
        "  text = str(text)\n",
        "  tokens = word_tokenize(text)\n",
        "  stop_words = set(stopwords.words('english'))\n",
        "  text = ' '.join([i for i in tokens if not i in stop_words])\n",
        "  return text"
      ],
      "execution_count": 131,
      "outputs": []
    },
    {
      "cell_type": "code",
      "metadata": {
        "colab": {
          "base_uri": "https://localhost:8080/",
          "height": 481
        },
        "id": "XRWTccWv8wB1",
        "outputId": "666d1bc3-ed69-4313-970f-87de2df4446d"
      },
      "source": [
        "ratings['Review'] = ratings['Review'].apply(processing)\n",
        "ratings.head(10)"
      ],
      "execution_count": 132,
      "outputs": [
        {
          "output_type": "stream",
          "name": "stderr",
          "text": [
            "/usr/local/lib/python3.7/dist-packages/ipykernel_launcher.py:1: SettingWithCopyWarning: \n",
            "A value is trying to be set on a copy of a slice from a DataFrame.\n",
            "Try using .loc[row_indexer,col_indexer] = value instead\n",
            "\n",
            "See the caveats in the documentation: https://pandas.pydata.org/pandas-docs/stable/user_guide/indexing.html#returning-a-view-versus-a-copy\n",
            "  \"\"\"Entry point for launching an IPython kernel.\n"
          ]
        },
        {
          "output_type": "execute_result",
          "data": {
            "text/html": [
              "<div>\n",
              "<style scoped>\n",
              "    .dataframe tbody tr th:only-of-type {\n",
              "        vertical-align: middle;\n",
              "    }\n",
              "\n",
              "    .dataframe tbody tr th {\n",
              "        vertical-align: top;\n",
              "    }\n",
              "\n",
              "    .dataframe thead th {\n",
              "        text-align: right;\n",
              "    }\n",
              "</style>\n",
              "<table border=\"1\" class=\"dataframe\">\n",
              "  <thead>\n",
              "    <tr style=\"text-align: right;\">\n",
              "      <th></th>\n",
              "      <th>Review</th>\n",
              "      <th>Rating</th>\n",
              "    </tr>\n",
              "  </thead>\n",
              "  <tbody>\n",
              "    <tr>\n",
              "      <th>0</th>\n",
              "      <td>ambience good food quite good saturday lunch c...</td>\n",
              "      <td>1</td>\n",
              "    </tr>\n",
              "    <tr>\n",
              "      <th>1</th>\n",
              "      <td>ambience good pleasant evening service prompt ...</td>\n",
              "      <td>1</td>\n",
              "    </tr>\n",
              "    <tr>\n",
              "      <th>2</th>\n",
              "      <td>must try great food great ambience thnx servic...</td>\n",
              "      <td>1</td>\n",
              "    </tr>\n",
              "    <tr>\n",
              "      <th>3</th>\n",
              "      <td>soumen das arun great guy behavior sincerety g...</td>\n",
              "      <td>1</td>\n",
              "    </tr>\n",
              "    <tr>\n",
              "      <th>4</th>\n",
              "      <td>food good ordered kodi drumsticks basket mutto...</td>\n",
              "      <td>1</td>\n",
              "    </tr>\n",
              "    <tr>\n",
              "      <th>5</th>\n",
              "      <td>ambiance good service good food apradeecp subr...</td>\n",
              "      <td>1</td>\n",
              "    </tr>\n",
              "    <tr>\n",
              "      <th>6</th>\n",
              "      <td>nice place ambience different food ordered tas...</td>\n",
              "      <td>1</td>\n",
              "    </tr>\n",
              "    <tr>\n",
              "      <th>7</th>\n",
              "      <td>well reading many reviews finally visited plac...</td>\n",
              "      <td>1</td>\n",
              "    </tr>\n",
              "    <tr>\n",
              "      <th>8</th>\n",
              "      <td>excellent food specially like spicy food court...</td>\n",
              "      <td>1</td>\n",
              "    </tr>\n",
              "    <tr>\n",
              "      <th>9</th>\n",
              "      <td>came birthday treat close friend perfect place...</td>\n",
              "      <td>1</td>\n",
              "    </tr>\n",
              "  </tbody>\n",
              "</table>\n",
              "</div>"
            ],
            "text/plain": [
              "                                              Review  Rating\n",
              "0  ambience good food quite good saturday lunch c...       1\n",
              "1  ambience good pleasant evening service prompt ...       1\n",
              "2  must try great food great ambience thnx servic...       1\n",
              "3  soumen das arun great guy behavior sincerety g...       1\n",
              "4  food good ordered kodi drumsticks basket mutto...       1\n",
              "5  ambiance good service good food apradeecp subr...       1\n",
              "6  nice place ambience different food ordered tas...       1\n",
              "7  well reading many reviews finally visited plac...       1\n",
              "8  excellent food specially like spicy food court...       1\n",
              "9  came birthday treat close friend perfect place...       1"
            ]
          },
          "metadata": {},
          "execution_count": 132
        }
      ]
    },
    {
      "cell_type": "code",
      "metadata": {
        "id": "7c8R-_jl8wB1"
      },
      "source": [
        "lemmatizer = WordNetLemmatizer()"
      ],
      "execution_count": 133,
      "outputs": []
    },
    {
      "cell_type": "code",
      "metadata": {
        "id": "Z47MB9AX8wB2"
      },
      "source": [
        "def lemmatizing(text):\n",
        "  data = word_tokenize(text)\n",
        "  result = ' '.join([lemmatizer.lemmatize(w) for w in data])\n",
        "  return result"
      ],
      "execution_count": 134,
      "outputs": []
    },
    {
      "cell_type": "code",
      "metadata": {
        "colab": {
          "base_uri": "https://localhost:8080/",
          "height": 326
        },
        "id": "1YOLF_7T8wB2",
        "outputId": "22cbd28a-882e-45db-e144-bffa603158f2"
      },
      "source": [
        "ratings['Review'] = ratings['Review'].apply(lemmatizing)\n",
        "ratings.head()"
      ],
      "execution_count": 135,
      "outputs": [
        {
          "output_type": "stream",
          "name": "stderr",
          "text": [
            "/usr/local/lib/python3.7/dist-packages/ipykernel_launcher.py:1: SettingWithCopyWarning: \n",
            "A value is trying to be set on a copy of a slice from a DataFrame.\n",
            "Try using .loc[row_indexer,col_indexer] = value instead\n",
            "\n",
            "See the caveats in the documentation: https://pandas.pydata.org/pandas-docs/stable/user_guide/indexing.html#returning-a-view-versus-a-copy\n",
            "  \"\"\"Entry point for launching an IPython kernel.\n"
          ]
        },
        {
          "output_type": "execute_result",
          "data": {
            "text/html": [
              "<div>\n",
              "<style scoped>\n",
              "    .dataframe tbody tr th:only-of-type {\n",
              "        vertical-align: middle;\n",
              "    }\n",
              "\n",
              "    .dataframe tbody tr th {\n",
              "        vertical-align: top;\n",
              "    }\n",
              "\n",
              "    .dataframe thead th {\n",
              "        text-align: right;\n",
              "    }\n",
              "</style>\n",
              "<table border=\"1\" class=\"dataframe\">\n",
              "  <thead>\n",
              "    <tr style=\"text-align: right;\">\n",
              "      <th></th>\n",
              "      <th>Review</th>\n",
              "      <th>Rating</th>\n",
              "    </tr>\n",
              "  </thead>\n",
              "  <tbody>\n",
              "    <tr>\n",
              "      <th>0</th>\n",
              "      <td>ambience good food quite good saturday lunch c...</td>\n",
              "      <td>1</td>\n",
              "    </tr>\n",
              "    <tr>\n",
              "      <th>1</th>\n",
              "      <td>ambience good pleasant evening service prompt ...</td>\n",
              "      <td>1</td>\n",
              "    </tr>\n",
              "    <tr>\n",
              "      <th>2</th>\n",
              "      <td>must try great food great ambience thnx servic...</td>\n",
              "      <td>1</td>\n",
              "    </tr>\n",
              "    <tr>\n",
              "      <th>3</th>\n",
              "      <td>soumen da arun great guy behavior sincerety go...</td>\n",
              "      <td>1</td>\n",
              "    </tr>\n",
              "    <tr>\n",
              "      <th>4</th>\n",
              "      <td>food good ordered kodi drumstick basket mutton...</td>\n",
              "      <td>1</td>\n",
              "    </tr>\n",
              "  </tbody>\n",
              "</table>\n",
              "</div>"
            ],
            "text/plain": [
              "                                              Review  Rating\n",
              "0  ambience good food quite good saturday lunch c...       1\n",
              "1  ambience good pleasant evening service prompt ...       1\n",
              "2  must try great food great ambience thnx servic...       1\n",
              "3  soumen da arun great guy behavior sincerety go...       1\n",
              "4  food good ordered kodi drumstick basket mutton...       1"
            ]
          },
          "metadata": {},
          "execution_count": 135
        }
      ]
    },
    {
      "cell_type": "markdown",
      "metadata": {
        "id": "48rz-dMM4GiS"
      },
      "source": [
        "# Visualisations"
      ]
    },
    {
      "cell_type": "code",
      "metadata": {
        "colab": {
          "base_uri": "https://localhost:8080/",
          "height": 366
        },
        "id": "mWV_S_XA4EuQ",
        "outputId": "3c432fb8-97dc-49ac-967a-b6f367298f14"
      },
      "source": [
        "sns.countplot(df['Rating']).set_title(\"Number of reviews for each rating\")"
      ],
      "execution_count": 136,
      "outputs": [
        {
          "output_type": "stream",
          "name": "stderr",
          "text": [
            "/usr/local/lib/python3.7/dist-packages/seaborn/_decorators.py:43: FutureWarning: Pass the following variable as a keyword arg: x. From version 0.12, the only valid positional argument will be `data`, and passing other arguments without an explicit keyword will result in an error or misinterpretation.\n",
            "  FutureWarning\n"
          ]
        },
        {
          "output_type": "execute_result",
          "data": {
            "text/plain": [
              "Text(0.5, 1.0, 'Number of reviews for each rating')"
            ]
          },
          "metadata": {},
          "execution_count": 136
        },
        {
          "output_type": "display_data",
          "data": {
            "image/png": "[encoded data removed]",
            "text/plain": [
              "<Figure size 432x288 with 1 Axes>"
            ]
          },
          "metadata": {
            "needs_background": "light"
          }
        }
      ]
    },
    {
      "cell_type": "code",
      "metadata": {
        "colab": {
          "base_uri": "https://localhost:8080/",
          "height": 404
        },
        "id": "ZbWLfmMN4v67",
        "outputId": "8dfaaeb4-9589-420a-a888-f5a51e378785"
      },
      "source": [
        "sample = pd.DataFrame()\n",
        "# Copying only 5 rating data\n",
        "sample['Restaurant'] = df['Restaurant'].where(df['Rating'] == 5.0)\n",
        "sample = sample.dropna()\n",
        "sample['Restaurant'].value_counts()[:10].plot(kind = 'barh', figsize = (8, 6), rot = 0)\n",
        "plt.title('Top 10 Restaurants who have 5 rating')\n",
        "plt.xlabel('Counts')\n",
        "plt.ylabel('Restaurant')\n",
        "plt.show()"
      ],
      "execution_count": 137,
      "outputs": [
        {
          "output_type": "display_data",
          "data": {
            "image/png": "[encoded data removed]",
            "text/plain": [
              "<Figure size 576x432 with 1 Axes>"
            ]
          },
          "metadata": {
            "needs_background": "light"
          }
        }
      ]
    },
    {
      "cell_type": "code",
      "metadata": {
        "colab": {
          "base_uri": "https://localhost:8080/",
          "height": 404
        },
        "id": "M4b5zd7MBhNX",
        "outputId": "3ec7b558-73c1-4ff5-b804-a0a9aabc659f"
      },
      "source": [
        "sample2 = pd.DataFrame()\n",
        "# Copying only 1 rating data\n",
        "sample2['Restaurant'] = df['Restaurant'].where(df['Rating'] == 1.0)\n",
        "sample2 = sample2.dropna()\n",
        "sample2['Restaurant'].value_counts()[:10].plot(kind = 'barh', figsize = (8, 6), rot = 0)\n",
        "plt.title('Top 10 Restaurants who have least rating (1)')\n",
        "plt.xlabel('Counts')\n",
        "plt.ylabel('Restaurant')\n",
        "plt.show()"
      ],
      "execution_count": 138,
      "outputs": [
        {
          "output_type": "display_data",
          "data": {
            "image/png": "[encoded data removed]",
            "text/plain": [
              "<Figure size 576x432 with 1 Axes>"
            ]
          },
          "metadata": {
            "needs_background": "light"
          }
        }
      ]
    },
    {
      "cell_type": "markdown",
      "metadata": {
        "id": "wVqSDw8C8wB2"
      },
      "source": [
        "# Dividing into Train and Test Splits"
      ]
    },
    {
      "cell_type": "code",
      "metadata": {
        "id": "AMx_HpzC8wB2"
      },
      "source": [
        "# Separating input variable from the target variable\n",
        "input = ratings['Review']\n",
        "target = ratings['Rating']"
      ],
      "execution_count": 139,
      "outputs": []
    },
    {
      "cell_type": "code",
      "metadata": {
        "id": "qZSljZyM8wB3"
      },
      "source": [
        "x_train, x_test, y_train, y_test = train_test_split(input, target, test_size = 0.2, random_state = 0)"
      ],
      "execution_count": 140,
      "outputs": []
    },
    {
      "cell_type": "code",
      "metadata": {
        "colab": {
          "base_uri": "https://localhost:8080/"
        },
        "id": "vDnaZSwg8wB3",
        "outputId": "a8eec66a-ffe0-4afc-a621-63f774db575b"
      },
      "source": [
        "print(\"Length of x_train: \", len(x_train))\n",
        "print(\"Length of y_train:\", len(y_train))\n",
        "print(\"Length of x_test: \", len(x_test))\n",
        "print(\"Length of y_test:\", len(y_test))"
      ],
      "execution_count": 141,
      "outputs": [
        {
          "output_type": "stream",
          "name": "stdout",
          "text": [
            "Length of x_train:  7964\n",
            "Length of y_train: 7964\n",
            "Length of x_test:  1991\n",
            "Length of y_test: 1991\n"
          ]
        }
      ]
    },
    {
      "cell_type": "markdown",
      "metadata": {
        "id": "zRgRAvIf8wB3"
      },
      "source": [
        "# Data Transformation"
      ]
    },
    {
      "cell_type": "markdown",
      "metadata": {
        "id": "zc0K8pJX8wB3"
      },
      "source": [
        "## Using Count Vectors"
      ]
    },
    {
      "cell_type": "code",
      "metadata": {
        "id": "QpO75-Rr8wB4"
      },
      "source": [
        "count_vector = CountVectorizer(analyzer = 'word', token_pattern = r'\\w{1,}')\n",
        "count_vector.fit(x_train)\n",
        "# Transforming the train and test dataset\n",
        "x_train_countvector = count_vector.transform(x_train)\n",
        "x_test_countvector = count_vector.transform(x_test)"
      ],
      "execution_count": 142,
      "outputs": []
    },
    {
      "cell_type": "markdown",
      "metadata": {
        "id": "JwbE-T-l8wB4"
      },
      "source": [
        "## Using Word-level  TF IDF Vectors "
      ]
    },
    {
      "cell_type": "code",
      "metadata": {
        "id": "GYPVA9aT8wB4"
      },
      "source": [
        "tfidf_vector = TfidfVectorizer(analyzer = 'word', token_pattern = r'\\w{1,}', max_features = 5000)\n",
        "tfidf_vector.fit(x_train)\n",
        "x_train_tfidf =  tfidf_vector.transform(x_train)\n",
        "x_test_tfidf =  tfidf_vector.transform(x_test)"
      ],
      "execution_count": 143,
      "outputs": []
    },
    {
      "cell_type": "markdown",
      "metadata": {
        "id": "qQhi7y8q8wB4"
      },
      "source": [
        "## Using N-gram level Vectors"
      ]
    },
    {
      "cell_type": "code",
      "metadata": {
        "id": "H0b7hSao8wB4"
      },
      "source": [
        "tfidf_vector_ngram = TfidfVectorizer(analyzer = 'word', token_pattern = r'\\w{1,}', ngram_range = (1,2), max_features = 5000)\n",
        "tfidf_vector_ngram.fit(x_train)\n",
        "x_train_tfidf_ngram =  tfidf_vector_ngram.transform(x_train)\n",
        "x_test_tfidf_ngram =  tfidf_vector_ngram.transform(x_test)"
      ],
      "execution_count": 144,
      "outputs": []
    },
    {
      "cell_type": "markdown",
      "metadata": {
        "id": "dBQTwua18wB5"
      },
      "source": [
        "## Using Character level Vectors"
      ]
    },
    {
      "cell_type": "code",
      "metadata": {
        "id": "PZSRuMJB8wB5"
      },
      "source": [
        "tfidf_vector_ngram_chars = TfidfVectorizer(analyzer = 'char', ngram_range = (1,2), max_features = 5000)\n",
        "tfidf_vector_ngram_chars.fit(x_train)\n",
        "x_train_tfidf_ngram_char =  tfidf_vector_ngram_chars.transform(x_train)\n",
        "x_test_tfidf_ngram_char =  tfidf_vector_ngram_chars.transform(x_test)"
      ],
      "execution_count": 145,
      "outputs": []
    },
    {
      "cell_type": "markdown",
      "metadata": {
        "id": "3DYIzoa48wB5"
      },
      "source": [
        "# Modelling"
      ]
    },
    {
      "cell_type": "code",
      "metadata": {
        "id": "jGfEKx1u8wB5"
      },
      "source": [
        "def modelling(model, vector_xtrain, vector_xtest):\n",
        "    # Fitting the trained vector on the classifier\n",
        "    model.fit(vector_xtrain, y_train)\n",
        "    \n",
        "    # Predicting on test data\n",
        "    prediction = model.predict(vector_xtest)\n",
        "    \n",
        "    return accuracy_score(prediction, y_test)"
      ],
      "execution_count": 146,
      "outputs": []
    },
    {
      "cell_type": "markdown",
      "metadata": {
        "id": "PGsbP-yq8wB5"
      },
      "source": [
        "## Naive Bayes"
      ]
    },
    {
      "cell_type": "code",
      "metadata": {
        "colab": {
          "base_uri": "https://localhost:8080/"
        },
        "id": "rAfZh2X88wB6",
        "outputId": "eb17e588-5c97-4ef4-9455-cd3a9c6c9238"
      },
      "source": [
        "accuracy1 = modelling(MultinomialNB(), x_train_countvector, x_test_countvector) * 100\n",
        "print(\"Accuracy for Naive Bayes on Count Vectors: \", accuracy1)"
      ],
      "execution_count": 147,
      "outputs": [
        {
          "output_type": "stream",
          "name": "stdout",
          "text": [
            "Accuracy for Naive Bayes on Count Vectors:  86.58965344048217\n"
          ]
        }
      ]
    },
    {
      "cell_type": "code",
      "metadata": {
        "colab": {
          "base_uri": "https://localhost:8080/"
        },
        "id": "mYQsNAY48wB6",
        "outputId": "eea83718-27b6-4d33-fcd2-ebcd1f92a2a4"
      },
      "source": [
        "accuracy2 = modelling(MultinomialNB(), x_train_tfidf, x_test_tfidf) * 100\n",
        "print(\"Accuracy for Naive Bayes on Word level TF-IDF: \", accuracy2)"
      ],
      "execution_count": 148,
      "outputs": [
        {
          "output_type": "stream",
          "name": "stdout",
          "text": [
            "Accuracy for Naive Bayes on Word level TF-IDF:  85.38422903063787\n"
          ]
        }
      ]
    },
    {
      "cell_type": "code",
      "metadata": {
        "colab": {
          "base_uri": "https://localhost:8080/"
        },
        "id": "dOYM2mpY8wB6",
        "outputId": "90d9202c-d9d4-4956-cae7-7ed99741adcc"
      },
      "source": [
        "accuracy3 = modelling(MultinomialNB(), x_train_tfidf_ngram, x_test_tfidf_ngram) * 100\n",
        "print(\"Accuracy for Naive Bayes on N-gram level vectors: \", accuracy3)"
      ],
      "execution_count": 149,
      "outputs": [
        {
          "output_type": "stream",
          "name": "stdout",
          "text": [
            "Accuracy for Naive Bayes on N-gram level vectors:  86.8407835258664\n"
          ]
        }
      ]
    },
    {
      "cell_type": "code",
      "metadata": {
        "colab": {
          "base_uri": "https://localhost:8080/"
        },
        "id": "2SEFRiQH8wB7",
        "outputId": "8f15e96d-94be-4514-cf6b-22be5abc8abb"
      },
      "source": [
        "accuracy4 = modelling(MultinomialNB(), x_train_tfidf_ngram_char, x_test_tfidf_ngram_char) * 100\n",
        "print(\"Accuracy for Naive Bayes on character level vectors: \", accuracy4)"
      ],
      "execution_count": 150,
      "outputs": [
        {
          "output_type": "stream",
          "name": "stdout",
          "text": [
            "Accuracy for Naive Bayes on character level vectors:  68.55851330989452\n"
          ]
        }
      ]
    },
    {
      "cell_type": "markdown",
      "metadata": {
        "id": "PrC9UlPY8wB7"
      },
      "source": [
        "## Logistic Regression"
      ]
    },
    {
      "cell_type": "code",
      "metadata": {
        "scrolled": true,
        "colab": {
          "base_uri": "https://localhost:8080/"
        },
        "id": "KGlaTz1K8wB7",
        "outputId": "347defa9-34ca-448d-a647-aeba51768ffb"
      },
      "source": [
        "accuracyl1 = modelling(LogisticRegression(), x_train_countvector, x_test_countvector) * 100\n",
        "print(\"Accuracy for Logistic Regression on Count Vectors: \", accuracyl1)"
      ],
      "execution_count": 151,
      "outputs": [
        {
          "output_type": "stream",
          "name": "stdout",
          "text": [
            "Accuracy for Logistic Regression on Count Vectors:  85.93671521848317\n"
          ]
        },
        {
          "output_type": "stream",
          "name": "stderr",
          "text": [
            "/usr/local/lib/python3.7/dist-packages/sklearn/linear_model/_logistic.py:940: ConvergenceWarning: lbfgs failed to converge (status=1):\n",
            "STOP: TOTAL NO. of ITERATIONS REACHED LIMIT.\n",
            "\n",
            "Increase the number of iterations (max_iter) or scale the data as shown in:\n",
            "    https://scikit-learn.org/stable/modules/preprocessing.html\n",
            "Please also refer to the documentation for alternative solver options:\n",
            "    https://scikit-learn.org/stable/modules/linear_model.html#logistic-regression\n",
            "  extra_warning_msg=_LOGISTIC_SOLVER_CONVERGENCE_MSG)\n"
          ]
        }
      ]
    },
    {
      "cell_type": "code",
      "metadata": {
        "colab": {
          "base_uri": "https://localhost:8080/"
        },
        "id": "YXYJ8zTv8wB7",
        "outputId": "6519423e-0499-47ee-842f-10a6caaa0832"
      },
      "source": [
        "accuracyl2 = modelling(LogisticRegression(), x_train_tfidf, x_test_tfidf) * 100\n",
        "print(\"Accuracy for Logistic Regression on Word level TF-IDF: \", accuracyl2)"
      ],
      "execution_count": 152,
      "outputs": [
        {
          "output_type": "stream",
          "name": "stdout",
          "text": [
            "Accuracy for Logistic Regression on Word level TF-IDF:  87.64439979909594\n"
          ]
        }
      ]
    },
    {
      "cell_type": "code",
      "metadata": {
        "colab": {
          "base_uri": "https://localhost:8080/"
        },
        "id": "j-l3JQYx8wB8",
        "outputId": "de871dd7-a4e5-44f0-c0a7-bf0e87b2f131"
      },
      "source": [
        "accuracyl3 = modelling(LogisticRegression(), x_train_tfidf_ngram, x_test_tfidf_ngram) * 100\n",
        "print(\"Accuracy for Logistic Regression on N-gram level vectors: \", accuracyl3)"
      ],
      "execution_count": 153,
      "outputs": [
        {
          "output_type": "stream",
          "name": "stdout",
          "text": [
            "Accuracy for Logistic Regression on N-gram level vectors:  87.4937217478654\n"
          ]
        }
      ]
    },
    {
      "cell_type": "code",
      "metadata": {
        "colab": {
          "base_uri": "https://localhost:8080/"
        },
        "id": "IVrl5Teh8wB8",
        "outputId": "7be7bedb-af25-44e5-a4ab-98475e826a09"
      },
      "source": [
        "accuracyl4 = modelling(LogisticRegression(), x_train_tfidf_ngram_char, x_test_tfidf_ngram_char) * 100\n",
        "print(\"Accuracy for Logistic Regression on character level vectors: \", accuracyl4)"
      ],
      "execution_count": 154,
      "outputs": [
        {
          "output_type": "stream",
          "name": "stdout",
          "text": [
            "Accuracy for Logistic Regression on character level vectors:  82.01908588648921\n"
          ]
        }
      ]
    },
    {
      "cell_type": "markdown",
      "metadata": {
        "id": "4UjrWgYv8wB8"
      },
      "source": [
        "## Support Vector Machine"
      ]
    },
    {
      "cell_type": "code",
      "metadata": {
        "colab": {
          "base_uri": "https://localhost:8080/"
        },
        "id": "sj37EmFW8wB8",
        "outputId": "1ace991e-fe86-4ee8-fc00-41d4c1d2d560"
      },
      "source": [
        "accuracys1 = modelling(SVC(), x_train_countvector, x_test_countvector) * 100\n",
        "print(\"Accuracy for SVM on Count Vectors: \", accuracys1)"
      ],
      "execution_count": 155,
      "outputs": [
        {
          "output_type": "stream",
          "name": "stdout",
          "text": [
            "Accuracy for SVM on Count Vectors:  85.6353591160221\n"
          ]
        }
      ]
    },
    {
      "cell_type": "code",
      "metadata": {
        "colab": {
          "base_uri": "https://localhost:8080/"
        },
        "id": "iyutcJBe8wB9",
        "outputId": "48c1ab1b-c540-432f-a0cc-9cd8308765fb"
      },
      "source": [
        "accuracys2 = modelling(SVC(), x_train_tfidf, x_test_tfidf) * 100\n",
        "print(\"Accuracy for SVM on Word level TF-IDF: \", accuracys2)"
      ],
      "execution_count": 156,
      "outputs": [
        {
          "output_type": "stream",
          "name": "stdout",
          "text": [
            "Accuracy for SVM on Word level TF-IDF:  87.29281767955801\n"
          ]
        }
      ]
    },
    {
      "cell_type": "code",
      "metadata": {
        "colab": {
          "base_uri": "https://localhost:8080/"
        },
        "id": "8c81sKIK8wB9",
        "outputId": "db2c5cad-ff43-44c0-95b7-71cce91f54b6"
      },
      "source": [
        "accuracys3 = modelling(SVC(), x_train_tfidf_ngram, x_test_tfidf_ngram) * 100\n",
        "print(\"Accuracy for SVM on N-gram level vectors: \", accuracys3)"
      ],
      "execution_count": 157,
      "outputs": [
        {
          "output_type": "stream",
          "name": "stdout",
          "text": [
            "Accuracy for SVM on N-gram level vectors:  87.44349573078854\n"
          ]
        }
      ]
    },
    {
      "cell_type": "code",
      "metadata": {
        "colab": {
          "base_uri": "https://localhost:8080/"
        },
        "id": "VHOqr87o8wB9",
        "outputId": "5b6f3343-7792-406b-81be-6d6b56ed8f8d"
      },
      "source": [
        "accuracys4 = modelling(SVC(), x_train_tfidf_ngram_char, x_test_tfidf_ngram_char) * 100\n",
        "print(\"Accuracy for SVM on character level vectors: \", accuracys4)"
      ],
      "execution_count": 158,
      "outputs": [
        {
          "output_type": "stream",
          "name": "stdout",
          "text": [
            "Accuracy for SVM on character level vectors:  84.07835258663988\n"
          ]
        }
      ]
    },
    {
      "cell_type": "markdown",
      "metadata": {
        "id": "afDMl1gR8wB9"
      },
      "source": [
        "## Random Forest"
      ]
    },
    {
      "cell_type": "code",
      "metadata": {
        "colab": {
          "base_uri": "https://localhost:8080/"
        },
        "id": "tKVxDGHG8wB-",
        "outputId": "b60edbb3-38e5-4e38-cc3e-4e4ca30288c2"
      },
      "source": [
        "accuracyr1 = modelling(RandomForestClassifier(), x_train_countvector, x_test_countvector) * 100\n",
        "print(\"Accuracy for Random Forest on Count Vectors: \", accuracyr1)"
      ],
      "execution_count": 159,
      "outputs": [
        {
          "output_type": "stream",
          "name": "stdout",
          "text": [
            "Accuracy for Random Forest on Count Vectors:  86.03716725263688\n"
          ]
        }
      ]
    },
    {
      "cell_type": "code",
      "metadata": {
        "colab": {
          "base_uri": "https://localhost:8080/"
        },
        "id": "mifdTpyZ8wB-",
        "outputId": "d2938470-4e20-41e0-d08e-2e80532ede78"
      },
      "source": [
        "accuracyr2 = modelling(RandomForestClassifier(), x_train_tfidf, x_test_tfidf) * 100\n",
        "print(\"Accuracy for Random Forest on Word level TF-IDF: \", accuracyr2)"
      ],
      "execution_count": 160,
      "outputs": [
        {
          "output_type": "stream",
          "name": "stdout",
          "text": [
            "Accuracy for Random Forest on Word level TF-IDF:  85.83626318432948\n"
          ]
        }
      ]
    },
    {
      "cell_type": "code",
      "metadata": {
        "colab": {
          "base_uri": "https://localhost:8080/"
        },
        "id": "C4oXNUO88wB-",
        "outputId": "4094a0c1-c3d0-4ef8-9bac-85dc695d8a9a"
      },
      "source": [
        "accuracyr3 = modelling(RandomForestClassifier(), x_train_tfidf_ngram, x_test_tfidf_ngram) * 100\n",
        "print(\"Accuracy for Random Forest on N-gram level vectors: \", accuracyr3)"
      ],
      "execution_count": 161,
      "outputs": [
        {
          "output_type": "stream",
          "name": "stdout",
          "text": [
            "Accuracy for Random Forest on N-gram level vectors:  85.98694123556002\n"
          ]
        }
      ]
    },
    {
      "cell_type": "code",
      "metadata": {
        "colab": {
          "base_uri": "https://localhost:8080/"
        },
        "id": "Fa-Xse-i8wB-",
        "outputId": "7af77f55-79f2-4ec2-af97-55ae915a1871"
      },
      "source": [
        "accuracyr4 = modelling(RandomForestClassifier(), x_train_tfidf_ngram_char, x_test_tfidf_ngram_char) * 100\n",
        "print(\"Accuracy for Random Forest on character level vectors: \", accuracyr4)"
      ],
      "execution_count": 162,
      "outputs": [
        {
          "output_type": "stream",
          "name": "stdout",
          "text": [
            "Accuracy for Random Forest on character level vectors:  79.85936715218483\n"
          ]
        }
      ]
    },
    {
      "cell_type": "markdown",
      "metadata": {
        "id": "a7lmBypl8wB-"
      },
      "source": [
        "## Boosting"
      ]
    },
    {
      "cell_type": "code",
      "metadata": {
        "colab": {
          "base_uri": "https://localhost:8080/"
        },
        "id": "3gwDMsFt8wB_",
        "outputId": "bcd10447-dedf-4469-814f-5cdbfbe758e8"
      },
      "source": [
        "accuracyb1 = modelling(GradientBoostingClassifier(), x_train_countvector, x_test_countvector) * 100\n",
        "print(\"Accuracy for Boosting on Count Vectors: \", accuracyb1)"
      ],
      "execution_count": 163,
      "outputs": [
        {
          "output_type": "stream",
          "name": "stdout",
          "text": [
            "Accuracy for Boosting on Count Vectors:  82.37066800602713\n"
          ]
        }
      ]
    },
    {
      "cell_type": "code",
      "metadata": {
        "colab": {
          "base_uri": "https://localhost:8080/"
        },
        "id": "mUmYrh768wB_",
        "outputId": "982cf88c-7083-4a4c-dbaa-50cd179df5f8"
      },
      "source": [
        "accuracyb2 = modelling(GradientBoostingClassifier(), x_train_tfidf, x_test_tfidf) * 100\n",
        "print(\"Accuracy for Boosting on Word level TF-IDF: \", accuracyb2)"
      ],
      "execution_count": 164,
      "outputs": [
        {
          "output_type": "stream",
          "name": "stdout",
          "text": [
            "Accuracy for Boosting on Word level TF-IDF:  83.07383224510296\n"
          ]
        }
      ]
    },
    {
      "cell_type": "code",
      "metadata": {
        "colab": {
          "base_uri": "https://localhost:8080/"
        },
        "id": "Nz0VmLxb8wB_",
        "outputId": "edfcbfe8-77cc-4769-b119-015e95a1cba3"
      },
      "source": [
        "accuracyb3 = modelling(GradientBoostingClassifier(), x_train_tfidf_ngram, x_test_tfidf_ngram) * 100\n",
        "print(\"Accuracy for Boosting on N-gram level vectors: \", accuracyb3)"
      ],
      "execution_count": 165,
      "outputs": [
        {
          "output_type": "stream",
          "name": "stdout",
          "text": [
            "Accuracy for Boosting on N-gram level vectors:  84.02812656956303\n"
          ]
        }
      ]
    },
    {
      "cell_type": "code",
      "metadata": {
        "colab": {
          "base_uri": "https://localhost:8080/"
        },
        "id": "P17hrhT18wB_",
        "outputId": "4fee47bc-e9a2-4bb4-b801-0e6d65b2a3aa"
      },
      "source": [
        "accuracyb4 = modelling(GradientBoostingClassifier(), x_train_tfidf_ngram_char, x_test_tfidf_ngram_char) * 100\n",
        "print(\"Accuracy for Boosting on character level vectors: \", accuracyb4)"
      ],
      "execution_count": 166,
      "outputs": [
        {
          "output_type": "stream",
          "name": "stdout",
          "text": [
            "Accuracy for Boosting on character level vectors:  81.5670517327976\n"
          ]
        }
      ]
    },
    {
      "cell_type": "code",
      "metadata": {
        "colab": {
          "base_uri": "https://localhost:8080/",
          "height": 173
        },
        "id": "LX0cVgZXKVEf",
        "outputId": "deef5378-4af7-473c-8322-71eeb40fdce7"
      },
      "source": [
        "performance = {'Naive Bayes':[accuracy1, accuracy2, accuracy3, accuracy4], 'Logistic':[accuracyl1, accuracyl2, accuracyl3, accuracyl4], 'SVM':[accuracys1, accuracys2, accuracys3, accuracys4], 'Random Forest':[accuracyr1, accuracyr2, accuracyr3, accuracyr4], 'Boosting':[accuracyb1, accuracyb2, accuracyb3, accuracyb4]} \n",
        "accuracy = pd.DataFrame(performance, index =['Count Vectors', 'Word level TF IDF', 'N-gram vector', 'Character vector']) \n",
        "  \n",
        "# print the data \n",
        "accuracy"
      ],
      "execution_count": 167,
      "outputs": [
        {
          "output_type": "execute_result",
          "data": {
            "text/html": [
              "<div>\n",
              "<style scoped>\n",
              "    .dataframe tbody tr th:only-of-type {\n",
              "        vertical-align: middle;\n",
              "    }\n",
              "\n",
              "    .dataframe tbody tr th {\n",
              "        vertical-align: top;\n",
              "    }\n",
              "\n",
              "    .dataframe thead th {\n",
              "        text-align: right;\n",
              "    }\n",
              "</style>\n",
              "<table border=\"1\" class=\"dataframe\">\n",
              "  <thead>\n",
              "    <tr style=\"text-align: right;\">\n",
              "      <th></th>\n",
              "      <th>Naive Bayes</th>\n",
              "      <th>Logistic</th>\n",
              "      <th>SVM</th>\n",
              "      <th>Random Forest</th>\n",
              "      <th>Boosting</th>\n",
              "    </tr>\n",
              "  </thead>\n",
              "  <tbody>\n",
              "    <tr>\n",
              "      <th>Count Vectors</th>\n",
              "      <td>86.589653</td>\n",
              "      <td>85.936715</td>\n",
              "      <td>85.635359</td>\n",
              "      <td>86.037167</td>\n",
              "      <td>82.370668</td>\n",
              "    </tr>\n",
              "    <tr>\n",
              "      <th>Word level TF IDF</th>\n",
              "      <td>85.384229</td>\n",
              "      <td>87.644400</td>\n",
              "      <td>87.292818</td>\n",
              "      <td>85.836263</td>\n",
              "      <td>83.073832</td>\n",
              "    </tr>\n",
              "    <tr>\n",
              "      <th>N-gram vector</th>\n",
              "      <td>86.840784</td>\n",
              "      <td>87.493722</td>\n",
              "      <td>87.443496</td>\n",
              "      <td>85.986941</td>\n",
              "      <td>84.028127</td>\n",
              "    </tr>\n",
              "    <tr>\n",
              "      <th>Character vector</th>\n",
              "      <td>68.558513</td>\n",
              "      <td>82.019086</td>\n",
              "      <td>84.078353</td>\n",
              "      <td>79.859367</td>\n",
              "      <td>81.567052</td>\n",
              "    </tr>\n",
              "  </tbody>\n",
              "</table>\n",
              "</div>"
            ],
            "text/plain": [
              "                   Naive Bayes   Logistic        SVM  Random Forest   Boosting\n",
              "Count Vectors        86.589653  85.936715  85.635359      86.037167  82.370668\n",
              "Word level TF IDF    85.384229  87.644400  87.292818      85.836263  83.073832\n",
              "N-gram vector        86.840784  87.493722  87.443496      85.986941  84.028127\n",
              "Character vector     68.558513  82.019086  84.078353      79.859367  81.567052"
            ]
          },
          "metadata": {},
          "execution_count": 167
        }
      ]
    },
    {
      "cell_type": "code",
      "metadata": {
        "colab": {
          "base_uri": "https://localhost:8080/",
          "height": 302
        },
        "id": "0z-2rGe0LyFU",
        "outputId": "b471ea1a-2ce0-4202-d060-568b925d0692"
      },
      "source": [
        "accuracy.plot.line(fontsize = 11, marker = 'o');\n",
        "plt.title(\"Accuracy for models\", fontsize = 15);\n",
        "plt.xlabel(\"Vectors\", fontsize=15)\n",
        "plt.ylabel(\"Accuracy\", fontsize=15)\n",
        "plt.show()"
      ],
      "execution_count": 168,
      "outputs": [
        {
          "output_type": "display_data",
          "data": {
            "image/png": "[encoded data removed]",
            "text/plain": [
              "<Figure size 432x288 with 1 Axes>"
            ]
          },
          "metadata": {
            "needs_background": "light"
          }
        }
      ]
    },
    {
      "cell_type": "markdown",
      "metadata": {
        "id": "thxIySkQCSTN"
      },
      "source": [
        "## Long Short Term Memory"
      ]
    },
    {
      "cell_type": "code",
      "metadata": {
        "colab": {
          "base_uri": "https://localhost:8080/"
        },
        "id": "PGvpLXZl8wCA",
        "outputId": "4d0b4d2b-6be5-4668-970b-a9ff7fc458f0"
      },
      "source": [
        "# Maximum words that needs to be used\n",
        "max_words = 10000\n",
        "# Maximum length for sequence\n",
        "max_length = 50\n",
        "# Embedding dimension should be between 50 to 300\n",
        "embedding = 100\n",
        "token = Tokenizer(num_words = max_words, filters = '!\"#$%&()*+,-./:;<=>?@[\\]^_`{|}~', lower = True)\n",
        "token.fit_on_texts(input)\n",
        "word_index = token.word_index\n",
        "print('Unique tokens: ', len(word_index))"
      ],
      "execution_count": 169,
      "outputs": [
        {
          "output_type": "stream",
          "name": "stdout",
          "text": [
            "Unique tokens:  13265\n"
          ]
        }
      ]
    },
    {
      "cell_type": "code",
      "metadata": {
        "id": "MfCAMokzEjH0"
      },
      "source": [
        "from keras.preprocessing.sequence import pad_sequences"
      ],
      "execution_count": 170,
      "outputs": []
    },
    {
      "cell_type": "code",
      "metadata": {
        "colab": {
          "base_uri": "https://localhost:8080/"
        },
        "id": "F2NP9yjAExSC",
        "outputId": "3b4e0ade-e763-4d9e-be1b-b943a7909d53"
      },
      "source": [
        "input = token.texts_to_sequences(input)\n",
        "input = pad_sequences(input, maxlen = max_length)\n",
        "print('Shape of data tensor:', input.shape)"
      ],
      "execution_count": 171,
      "outputs": [
        {
          "output_type": "stream",
          "name": "stdout",
          "text": [
            "Shape of data tensor: (9955, 50)\n"
          ]
        }
      ]
    },
    {
      "cell_type": "code",
      "metadata": {
        "id": "Q8zVGDD7FF5D"
      },
      "source": [
        "x2_train, x2_test, y2_train, y2_test = train_test_split(input, target, test_size = 0.2, random_state = 0)"
      ],
      "execution_count": 172,
      "outputs": []
    },
    {
      "cell_type": "code",
      "metadata": {
        "colab": {
          "base_uri": "https://localhost:8080/"
        },
        "id": "-282CfUdFYdV",
        "outputId": "f8e62dc0-6e39-45eb-993f-5435939ec24f"
      },
      "source": [
        "print(\"Length of x_train: \", len(x2_train))\n",
        "print(\"Length of y_train:\", len(y2_train))\n",
        "print(\"Length of x_test: \", len(x2_test))\n",
        "print(\"Length of y_test:\", len(y2_test))"
      ],
      "execution_count": 173,
      "outputs": [
        {
          "output_type": "stream",
          "name": "stdout",
          "text": [
            "Length of x_train:  7964\n",
            "Length of y_train: 7964\n",
            "Length of x_test:  1991\n",
            "Length of y_test: 1991\n"
          ]
        }
      ]
    },
    {
      "cell_type": "code",
      "metadata": {
        "colab": {
          "base_uri": "https://localhost:8080/"
        },
        "id": "bhjrOsf7FlMo",
        "outputId": "ed4d01a3-543e-4981-cddc-7f5b15a090e3"
      },
      "source": [
        "print(x2_train.shape,y2_train.shape)\n",
        "print(x2_test.shape,y2_test.shape)"
      ],
      "execution_count": 174,
      "outputs": [
        {
          "output_type": "stream",
          "name": "stdout",
          "text": [
            "(7964, 50) (7964,)\n",
            "(1991, 50) (1991,)\n"
          ]
        }
      ]
    },
    {
      "cell_type": "code",
      "metadata": {
        "colab": {
          "base_uri": "https://localhost:8080/"
        },
        "id": "Fq5NAVrcFtYY",
        "outputId": "97074a92-78d3-41eb-b2c9-ca4c35c85e34"
      },
      "source": [
        "model = Sequential()\n",
        "model.add(Embedding(input_dim = max_words, output_dim = embedding, input_length = max_length))\n",
        "model.add(LSTM(300, recurrent_dropout = 0.1))\n",
        "model.add(Dropout(0.2))\n",
        "model.add(Dense(1, activation = 'sigmoid'))\n",
        "model.compile(loss = 'binary_crossentropy', optimizer = 'adam', metrics = ['accuracy'])\n",
        "print(model.summary())\n",
        "history = model.fit(x2_train, y2_train, validation_data = (x2_test, y2_test), epochs = 5, batch_size = 64)"
      ],
      "execution_count": 177,
      "outputs": [
        {
          "output_type": "stream",
          "name": "stdout",
          "text": [
            "Model: \"sequential_2\"\n",
            "_________________________________________________________________\n",
            "Layer (type)                 Output Shape              Param #   \n",
            "=================================================================\n",
            "embedding_2 (Embedding)      (None, 50, 100)           1000000   \n",
            "_________________________________________________________________\n",
            "lstm_2 (LSTM)                (None, 300)               481200    \n",
            "_________________________________________________________________\n",
            "dropout_2 (Dropout)          (None, 300)               0         \n",
            "_________________________________________________________________\n",
            "dense_2 (Dense)              (None, 1)                 301       \n",
            "=================================================================\n",
            "Total params: 1,481,501\n",
            "Trainable params: 1,481,501\n",
            "Non-trainable params: 0\n",
            "_________________________________________________________________\n",
            "None\n",
            "Epoch 1/5\n",
            "125/125 [==============================] - 73s 566ms/step - loss: 0.4596 - accuracy: 0.7762 - val_loss: 0.3317 - val_accuracy: 0.8664\n",
            "Epoch 2/5\n",
            "125/125 [==============================] - 71s 566ms/step - loss: 0.2617 - accuracy: 0.8963 - val_loss: 0.3271 - val_accuracy: 0.8684\n",
            "Epoch 3/5\n",
            "125/125 [==============================] - 71s 567ms/step - loss: 0.1991 - accuracy: 0.9255 - val_loss: 0.3632 - val_accuracy: 0.8684\n",
            "Epoch 4/5\n",
            "125/125 [==============================] - 72s 572ms/step - loss: 0.1490 - accuracy: 0.9469 - val_loss: 0.5039 - val_accuracy: 0.8443\n",
            "Epoch 5/5\n",
            "125/125 [==============================] - 71s 568ms/step - loss: 0.1094 - accuracy: 0.9598 - val_loss: 0.4840 - val_accuracy: 0.8518\n"
          ]
        }
      ]
    },
    {
      "cell_type": "code",
      "metadata": {
        "colab": {
          "base_uri": "https://localhost:8080/",
          "height": 545
        },
        "id": "T-dm-uYXJZQW",
        "outputId": "672434be-8bbb-473f-8a56-0596eb28552d"
      },
      "source": [
        "acc = history.history['accuracy']\n",
        "val_acc = history.history['val_accuracy']\n",
        "loss = history.history['loss']\n",
        "val_loss = history.history['val_loss']\n",
        "epochs = range(1, len(acc) + 1)\n",
        "\n",
        "plt.title('Training and validation accuracy')\n",
        "plt.plot(epochs, acc, label = 'Training accuracy', marker = 'o')\n",
        "plt.plot(epochs, val_acc, label = 'Validation accuracy', marker = 'o')\n",
        "plt.legend()\n",
        "\n",
        "plt.figure()\n",
        "plt.title('Training and validation loss')\n",
        "plt.plot(epochs, loss, label='Training loss', marker = 'o')\n",
        "plt.plot(epochs, val_loss, label='Validation loss', marker = 'o')\n",
        "\n",
        "plt.legend()\n",
        "\n",
        "plt.show()"
      ],
      "execution_count": 178,
      "outputs": [
        {
          "output_type": "display_data",
          "data": {
            "image/png": "[encoded data removed]",
            "text/plain": [
              "<Figure size 432x288 with 1 Axes>"
            ]
          },
          "metadata": {
            "needs_background": "light"
          }
        },
        {
          "output_type": "display_data",
          "data": {
            "image/png": "[encoded data removed]",
            "text/plain": [
              "<Figure size 432x288 with 1 Axes>"
            ]
          },
          "metadata": {
            "needs_background": "light"
          }
        }
      ]
    }
  ]
}