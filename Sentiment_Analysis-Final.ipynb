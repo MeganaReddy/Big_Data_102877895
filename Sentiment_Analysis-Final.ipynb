{
  "nbformat": 4,
  "nbformat_minor": 0,
  "metadata": {
    "kernelspec": {
      "display_name": "Python 3",
      "language": "python",
      "name": "python3"
    },
    "language_info": {
      "codemirror_mode": {
        "name": "ipython",
        "version": 3
      },
      "file_extension": ".py",
      "mimetype": "text/x-python",
      "name": "python",
      "nbconvert_exporter": "python",
      "pygments_lexer": "ipython3",
      "version": "3.8.5"
    },
    "colab": {
      "name": "Sentiment_Analysis.ipynb",
      "provenance": []
    }
  },
  "cells": [
    {
      "cell_type": "markdown",
      "metadata": {
        "id": "rAu9rOfd8wBp"
      },
      "source": [
        "# Data Acquisition"
      ]
    },
    {
      "cell_type": "code",
      "metadata": {
        "id": "0BT5nvUF8wBr"
      },
      "source": [
        "import pandas as pd\n",
        "import numpy as np\n",
        "import re\n",
        "import nltk\n",
        "from sklearn.model_selection import train_test_split\n",
        "from sklearn.feature_extraction.text import CountVectorizer\n",
        "from sklearn.feature_extraction.text import TfidfVectorizer\n",
        "from sklearn.naive_bayes import MultinomialNB\n",
        "from sklearn.linear_model import LogisticRegression\n",
        "from sklearn.ensemble import RandomForestClassifier, GradientBoostingClassifier\n",
        "import xgboost as xgb\n",
        "from sklearn.svm import SVC\n",
        "from sklearn.metrics import classification_report, accuracy_score\n",
        "import seaborn as sns\n",
        "import matplotlib.pyplot as plt"
      ],
      "execution_count": 75,
      "outputs": []
    },
    {
      "cell_type": "code",
      "metadata": {
        "colab": {
          "base_uri": "https://localhost:8080/"
        },
        "id": "RZIK2z8Q8wBs",
        "outputId": "a5ad4a77-fa38-412c-a09d-aa73d3223233"
      },
      "source": [
        "nltk.download('popular')"
      ],
      "execution_count": 4,
      "outputs": [
        {
          "output_type": "stream",
          "name": "stdout",
          "text": [
            "[nltk_data] Downloading collection 'popular'\n",
            "[nltk_data]    | \n",
            "[nltk_data]    | Downloading package cmudict to /root/nltk_data...\n",
            "[nltk_data]    |   Unzipping corpora/cmudict.zip.\n",
            "[nltk_data]    | Downloading package gazetteers to /root/nltk_data...\n",
            "[nltk_data]    |   Unzipping corpora/gazetteers.zip.\n",
            "[nltk_data]    | Downloading package genesis to /root/nltk_data...\n",
            "[nltk_data]    |   Unzipping corpora/genesis.zip.\n",
            "[nltk_data]    | Downloading package gutenberg to /root/nltk_data...\n",
            "[nltk_data]    |   Unzipping corpora/gutenberg.zip.\n",
            "[nltk_data]    | Downloading package inaugural to /root/nltk_data...\n",
            "[nltk_data]    |   Unzipping corpora/inaugural.zip.\n",
            "[nltk_data]    | Downloading package movie_reviews to\n",
            "[nltk_data]    |     /root/nltk_data...\n",
            "[nltk_data]    |   Unzipping corpora/movie_reviews.zip.\n",
            "[nltk_data]    | Downloading package names to /root/nltk_data...\n",
            "[nltk_data]    |   Unzipping corpora/names.zip.\n",
            "[nltk_data]    | Downloading package shakespeare to /root/nltk_data...\n",
            "[nltk_data]    |   Unzipping corpora/shakespeare.zip.\n",
            "[nltk_data]    | Downloading package stopwords to /root/nltk_data...\n",
            "[nltk_data]    |   Unzipping corpora/stopwords.zip.\n",
            "[nltk_data]    | Downloading package treebank to /root/nltk_data...\n",
            "[nltk_data]    |   Unzipping corpora/treebank.zip.\n",
            "[nltk_data]    | Downloading package twitter_samples to\n",
            "[nltk_data]    |     /root/nltk_data...\n",
            "[nltk_data]    |   Unzipping corpora/twitter_samples.zip.\n",
            "[nltk_data]    | Downloading package omw to /root/nltk_data...\n",
            "[nltk_data]    |   Unzipping corpora/omw.zip.\n",
            "[nltk_data]    | Downloading package wordnet to /root/nltk_data...\n",
            "[nltk_data]    |   Unzipping corpora/wordnet.zip.\n",
            "[nltk_data]    | Downloading package wordnet31 to /root/nltk_data...\n",
            "[nltk_data]    |   Unzipping corpora/wordnet31.zip.\n",
            "[nltk_data]    | Downloading package wordnet_ic to /root/nltk_data...\n",
            "[nltk_data]    |   Unzipping corpora/wordnet_ic.zip.\n",
            "[nltk_data]    | Downloading package words to /root/nltk_data...\n",
            "[nltk_data]    |   Unzipping corpora/words.zip.\n",
            "[nltk_data]    | Downloading package maxent_ne_chunker to\n",
            "[nltk_data]    |     /root/nltk_data...\n",
            "[nltk_data]    |   Unzipping chunkers/maxent_ne_chunker.zip.\n",
            "[nltk_data]    | Downloading package punkt to /root/nltk_data...\n",
            "[nltk_data]    |   Unzipping tokenizers/punkt.zip.\n",
            "[nltk_data]    | Downloading package snowball_data to\n",
            "[nltk_data]    |     /root/nltk_data...\n",
            "[nltk_data]    | Downloading package averaged_perceptron_tagger to\n",
            "[nltk_data]    |     /root/nltk_data...\n",
            "[nltk_data]    |   Unzipping taggers/averaged_perceptron_tagger.zip.\n",
            "[nltk_data]    | \n",
            "[nltk_data]  Done downloading collection popular\n"
          ]
        },
        {
          "output_type": "execute_result",
          "data": {
            "text/plain": [
              "True"
            ]
          },
          "metadata": {},
          "execution_count": 4
        }
      ]
    },
    {
      "cell_type": "code",
      "metadata": {
        "id": "uzB1Blv88wBt"
      },
      "source": [
        "from nltk.corpus import stopwords\n",
        "from nltk.tokenize import word_tokenize\n",
        "from nltk.stem import WordNetLemmatizer"
      ],
      "execution_count": 5,
      "outputs": []
    },
    {
      "cell_type": "code",
      "metadata": {
        "id": "s_prayp59L_0"
      },
      "source": [
        "import tensorflow as tf\n",
        "from tensorflow import keras\n",
        "from keras.preprocessing.text import Tokenizer\n",
        "from keras.models import Sequential\n",
        "from keras.layers import Dense\n",
        "from keras.layers import Embedding\n",
        "from keras.layers import SpatialDropout1D\n",
        "from keras.layers import LSTM\n",
        "from keras.callbacks import EarlyStopping\n",
        "from keras.layers import Bidirectional\n",
        "from keras.layers import Dropout\n",
        "from keras.preprocessing.sequence import pad_sequences"
      ],
      "execution_count": 6,
      "outputs": []
    },
    {
      "cell_type": "code",
      "metadata": {
        "colab": {
          "base_uri": "https://localhost:8080/",
          "height": 289
        },
        "id": "BUrtwiqh8wBu",
        "outputId": "144a02ef-9921-4b5f-bd7f-db40ba606038"
      },
      "source": [
        "df = pd.read_csv(\"/content/Restaurant reviews.csv\")\n",
        "df.head()"
      ],
      "execution_count": 8,
      "outputs": [
        {
          "output_type": "execute_result",
          "data": {
            "text/html": [
              "<div>\n",
              "<style scoped>\n",
              "    .dataframe tbody tr th:only-of-type {\n",
              "        vertical-align: middle;\n",
              "    }\n",
              "\n",
              "    .dataframe tbody tr th {\n",
              "        vertical-align: top;\n",
              "    }\n",
              "\n",
              "    .dataframe thead th {\n",
              "        text-align: right;\n",
              "    }\n",
              "</style>\n",
              "<table border=\"1\" class=\"dataframe\">\n",
              "  <thead>\n",
              "    <tr style=\"text-align: right;\">\n",
              "      <th></th>\n",
              "      <th>Restaurant</th>\n",
              "      <th>Reviewer</th>\n",
              "      <th>Review</th>\n",
              "      <th>Rating</th>\n",
              "      <th>Metadata</th>\n",
              "      <th>Time</th>\n",
              "      <th>Pictures</th>\n",
              "    </tr>\n",
              "  </thead>\n",
              "  <tbody>\n",
              "    <tr>\n",
              "      <th>0</th>\n",
              "      <td>Beyond Flavours</td>\n",
              "      <td>Rusha Chakraborty</td>\n",
              "      <td>The ambience was good, food was quite good . h...</td>\n",
              "      <td>5</td>\n",
              "      <td>1 Review , 2 Followers</td>\n",
              "      <td>5/25/2019 15:54</td>\n",
              "      <td>0</td>\n",
              "    </tr>\n",
              "    <tr>\n",
              "      <th>1</th>\n",
              "      <td>Beyond Flavours</td>\n",
              "      <td>Anusha Tirumalaneedi</td>\n",
              "      <td>Ambience is too good for a pleasant evening. S...</td>\n",
              "      <td>5</td>\n",
              "      <td>3 Reviews , 2 Followers</td>\n",
              "      <td>5/25/2019 14:20</td>\n",
              "      <td>0</td>\n",
              "    </tr>\n",
              "    <tr>\n",
              "      <th>2</th>\n",
              "      <td>Beyond Flavours</td>\n",
              "      <td>Ashok Shekhawat</td>\n",
              "      <td>A must try.. great food great ambience. Thnx f...</td>\n",
              "      <td>5</td>\n",
              "      <td>2 Reviews , 3 Followers</td>\n",
              "      <td>5/24/2019 22:54</td>\n",
              "      <td>0</td>\n",
              "    </tr>\n",
              "    <tr>\n",
              "      <th>3</th>\n",
              "      <td>Beyond Flavours</td>\n",
              "      <td>Swapnil Sarkar</td>\n",
              "      <td>Soumen das and Arun was a great guy. Only beca...</td>\n",
              "      <td>5</td>\n",
              "      <td>1 Review , 1 Follower</td>\n",
              "      <td>5/24/2019 22:11</td>\n",
              "      <td>0</td>\n",
              "    </tr>\n",
              "    <tr>\n",
              "      <th>4</th>\n",
              "      <td>Beyond Flavours</td>\n",
              "      <td>Dileep</td>\n",
              "      <td>Food is good.we ordered Kodi drumsticks and ba...</td>\n",
              "      <td>5</td>\n",
              "      <td>3 Reviews , 2 Followers</td>\n",
              "      <td>5/24/2019 21:37</td>\n",
              "      <td>0</td>\n",
              "    </tr>\n",
              "  </tbody>\n",
              "</table>\n",
              "</div>"
            ],
            "text/plain": [
              "        Restaurant              Reviewer  ...             Time Pictures\n",
              "0  Beyond Flavours     Rusha Chakraborty  ...  5/25/2019 15:54        0\n",
              "1  Beyond Flavours  Anusha Tirumalaneedi  ...  5/25/2019 14:20        0\n",
              "2  Beyond Flavours       Ashok Shekhawat  ...  5/24/2019 22:54        0\n",
              "3  Beyond Flavours        Swapnil Sarkar  ...  5/24/2019 22:11        0\n",
              "4  Beyond Flavours                Dileep  ...  5/24/2019 21:37        0\n",
              "\n",
              "[5 rows x 7 columns]"
            ]
          },
          "metadata": {},
          "execution_count": 8
        }
      ]
    },
    {
      "cell_type": "code",
      "metadata": {
        "colab": {
          "base_uri": "https://localhost:8080/"
        },
        "id": "akmP25cP8wBu",
        "outputId": "e780b0a3-06f9-4c79-f10b-bce688f05e82"
      },
      "source": [
        "print(df[\"Review\"][2])"
      ],
      "execution_count": 9,
      "outputs": [
        {
          "output_type": "stream",
          "name": "stdout",
          "text": [
            "A must try.. great food great ambience. Thnx for the service by Pradeep and Subroto. My personal recommendation is Penne Alfredo Pasta:) ....... Also the music in the background is amazing.\n"
          ]
        }
      ]
    },
    {
      "cell_type": "code",
      "metadata": {
        "colab": {
          "base_uri": "https://localhost:8080/"
        },
        "id": "NIWAYqE78wBv",
        "outputId": "dbb72436-5337-4f62-8d50-34c70cb7295c"
      },
      "source": [
        "df.shape"
      ],
      "execution_count": 10,
      "outputs": [
        {
          "output_type": "execute_result",
          "data": {
            "text/plain": [
              "(10000, 7)"
            ]
          },
          "metadata": {},
          "execution_count": 10
        }
      ]
    },
    {
      "cell_type": "markdown",
      "metadata": {
        "id": "GytP_1oQ8wBv"
      },
      "source": [
        "# Data Pre-processing"
      ]
    },
    {
      "cell_type": "code",
      "metadata": {
        "colab": {
          "base_uri": "https://localhost:8080/"
        },
        "id": "T0mauYEz8wBw",
        "outputId": "7791756a-1eba-424a-8763-ef173e677f15"
      },
      "source": [
        "df.dtypes"
      ],
      "execution_count": 11,
      "outputs": [
        {
          "output_type": "execute_result",
          "data": {
            "text/plain": [
              "Restaurant    object\n",
              "Reviewer      object\n",
              "Review        object\n",
              "Rating        object\n",
              "Metadata      object\n",
              "Time          object\n",
              "Pictures       int64\n",
              "dtype: object"
            ]
          },
          "metadata": {},
          "execution_count": 11
        }
      ]
    },
    {
      "cell_type": "code",
      "metadata": {
        "colab": {
          "base_uri": "https://localhost:8080/"
        },
        "id": "jOzz4yzX8wBw",
        "outputId": "89431613-a200-4a84-b303-9e5673a7e819"
      },
      "source": [
        "# Checking for null values\n",
        "df.isnull().sum()"
      ],
      "execution_count": 12,
      "outputs": [
        {
          "output_type": "execute_result",
          "data": {
            "text/plain": [
              "Restaurant     0\n",
              "Reviewer      38\n",
              "Review        45\n",
              "Rating        38\n",
              "Metadata      38\n",
              "Time          38\n",
              "Pictures       0\n",
              "dtype: int64"
            ]
          },
          "metadata": {},
          "execution_count": 12
        }
      ]
    },
    {
      "cell_type": "code",
      "metadata": {
        "colab": {
          "base_uri": "https://localhost:8080/"
        },
        "id": "HZLFblEP8wBx",
        "outputId": "78a5d006-fab4-4782-9e16-3cd108bd8c93"
      },
      "source": [
        "# Deleting null values:\n",
        "df = df.dropna()\n",
        "df.shape"
      ],
      "execution_count": 13,
      "outputs": [
        {
          "output_type": "execute_result",
          "data": {
            "text/plain": [
              "(9955, 7)"
            ]
          },
          "metadata": {},
          "execution_count": 13
        }
      ]
    },
    {
      "cell_type": "code",
      "metadata": {
        "colab": {
          "base_uri": "https://localhost:8080/"
        },
        "id": "fKLHVOE28wBx",
        "outputId": "b7093be6-6c56-4bfd-e828-256671b97ef6"
      },
      "source": [
        "# Checking various values present in the column\n",
        "df[\"Rating\"].value_counts()"
      ],
      "execution_count": 14,
      "outputs": [
        {
          "output_type": "execute_result",
          "data": {
            "text/plain": [
              "5       3826\n",
              "4       2373\n",
              "1       1735\n",
              "3       1192\n",
              "2        684\n",
              "4.5       69\n",
              "3.5       47\n",
              "2.5       19\n",
              "1.5        9\n",
              "Like       1\n",
              "Name: Rating, dtype: int64"
            ]
          },
          "metadata": {},
          "execution_count": 14
        }
      ]
    },
    {
      "cell_type": "code",
      "metadata": {
        "id": "YsSgtPg48wBy"
      },
      "source": [
        "# Replacing 'Like' with 5 rating\n",
        "df[\"Rating\"] = df[\"Rating\"].replace(\"Like\", 5)"
      ],
      "execution_count": 15,
      "outputs": []
    },
    {
      "cell_type": "code",
      "metadata": {
        "id": "MpE5Q4qC8wBy"
      },
      "source": [
        "# Converting to float type\n",
        "df[\"Rating\"] = df[\"Rating\"].astype(\"float\")"
      ],
      "execution_count": 16,
      "outputs": []
    },
    {
      "cell_type": "code",
      "metadata": {
        "colab": {
          "base_uri": "https://localhost:8080/",
          "height": 204
        },
        "id": "VYF7eTnr8wBy",
        "outputId": "483b0116-07d0-41ea-9e1d-67aac23f4c20"
      },
      "source": [
        "# Taking a part of the data for sentiment analysis\n",
        "ratings = df[[\"Review\", \"Rating\"]]\n",
        "ratings.head()"
      ],
      "execution_count": 17,
      "outputs": [
        {
          "output_type": "execute_result",
          "data": {
            "text/html": [
              "<div>\n",
              "<style scoped>\n",
              "    .dataframe tbody tr th:only-of-type {\n",
              "        vertical-align: middle;\n",
              "    }\n",
              "\n",
              "    .dataframe tbody tr th {\n",
              "        vertical-align: top;\n",
              "    }\n",
              "\n",
              "    .dataframe thead th {\n",
              "        text-align: right;\n",
              "    }\n",
              "</style>\n",
              "<table border=\"1\" class=\"dataframe\">\n",
              "  <thead>\n",
              "    <tr style=\"text-align: right;\">\n",
              "      <th></th>\n",
              "      <th>Review</th>\n",
              "      <th>Rating</th>\n",
              "    </tr>\n",
              "  </thead>\n",
              "  <tbody>\n",
              "    <tr>\n",
              "      <th>0</th>\n",
              "      <td>The ambience was good, food was quite good . h...</td>\n",
              "      <td>5.0</td>\n",
              "    </tr>\n",
              "    <tr>\n",
              "      <th>1</th>\n",
              "      <td>Ambience is too good for a pleasant evening. S...</td>\n",
              "      <td>5.0</td>\n",
              "    </tr>\n",
              "    <tr>\n",
              "      <th>2</th>\n",
              "      <td>A must try.. great food great ambience. Thnx f...</td>\n",
              "      <td>5.0</td>\n",
              "    </tr>\n",
              "    <tr>\n",
              "      <th>3</th>\n",
              "      <td>Soumen das and Arun was a great guy. Only beca...</td>\n",
              "      <td>5.0</td>\n",
              "    </tr>\n",
              "    <tr>\n",
              "      <th>4</th>\n",
              "      <td>Food is good.we ordered Kodi drumsticks and ba...</td>\n",
              "      <td>5.0</td>\n",
              "    </tr>\n",
              "  </tbody>\n",
              "</table>\n",
              "</div>"
            ],
            "text/plain": [
              "                                              Review  Rating\n",
              "0  The ambience was good, food was quite good . h...     5.0\n",
              "1  Ambience is too good for a pleasant evening. S...     5.0\n",
              "2  A must try.. great food great ambience. Thnx f...     5.0\n",
              "3  Soumen das and Arun was a great guy. Only beca...     5.0\n",
              "4  Food is good.we ordered Kodi drumsticks and ba...     5.0"
            ]
          },
          "metadata": {},
          "execution_count": 17
        }
      ]
    },
    {
      "cell_type": "code",
      "metadata": {
        "colab": {
          "base_uri": "https://localhost:8080/"
        },
        "id": "EWT8Xays8wBz",
        "outputId": "84997c8d-93d6-4658-e8ea-adf3aae38b11"
      },
      "source": [
        "# Checking data types\n",
        "ratings.dtypes"
      ],
      "execution_count": 18,
      "outputs": [
        {
          "output_type": "execute_result",
          "data": {
            "text/plain": [
              "Review     object\n",
              "Rating    float64\n",
              "dtype: object"
            ]
          },
          "metadata": {},
          "execution_count": 18
        }
      ]
    },
    {
      "cell_type": "code",
      "metadata": {
        "colab": {
          "base_uri": "https://localhost:8080/",
          "height": 326
        },
        "id": "CHKKGA878wBz",
        "outputId": "9f07e907-2f88-432a-ae42-b51766d4c71a"
      },
      "source": [
        "# Replacing all values under 4 with 0 and the rest with 1\n",
        "ratings[\"Rating\"] = np.where(ratings['Rating']<4, 0, 1)\n",
        "ratings.head()"
      ],
      "execution_count": 19,
      "outputs": [
        {
          "output_type": "stream",
          "name": "stderr",
          "text": [
            "/usr/local/lib/python3.7/dist-packages/ipykernel_launcher.py:2: SettingWithCopyWarning: \n",
            "A value is trying to be set on a copy of a slice from a DataFrame.\n",
            "Try using .loc[row_indexer,col_indexer] = value instead\n",
            "\n",
            "See the caveats in the documentation: https://pandas.pydata.org/pandas-docs/stable/user_guide/indexing.html#returning-a-view-versus-a-copy\n",
            "  \n"
          ]
        },
        {
          "output_type": "execute_result",
          "data": {
            "text/html": [
              "<div>\n",
              "<style scoped>\n",
              "    .dataframe tbody tr th:only-of-type {\n",
              "        vertical-align: middle;\n",
              "    }\n",
              "\n",
              "    .dataframe tbody tr th {\n",
              "        vertical-align: top;\n",
              "    }\n",
              "\n",
              "    .dataframe thead th {\n",
              "        text-align: right;\n",
              "    }\n",
              "</style>\n",
              "<table border=\"1\" class=\"dataframe\">\n",
              "  <thead>\n",
              "    <tr style=\"text-align: right;\">\n",
              "      <th></th>\n",
              "      <th>Review</th>\n",
              "      <th>Rating</th>\n",
              "    </tr>\n",
              "  </thead>\n",
              "  <tbody>\n",
              "    <tr>\n",
              "      <th>0</th>\n",
              "      <td>The ambience was good, food was quite good . h...</td>\n",
              "      <td>1</td>\n",
              "    </tr>\n",
              "    <tr>\n",
              "      <th>1</th>\n",
              "      <td>Ambience is too good for a pleasant evening. S...</td>\n",
              "      <td>1</td>\n",
              "    </tr>\n",
              "    <tr>\n",
              "      <th>2</th>\n",
              "      <td>A must try.. great food great ambience. Thnx f...</td>\n",
              "      <td>1</td>\n",
              "    </tr>\n",
              "    <tr>\n",
              "      <th>3</th>\n",
              "      <td>Soumen das and Arun was a great guy. Only beca...</td>\n",
              "      <td>1</td>\n",
              "    </tr>\n",
              "    <tr>\n",
              "      <th>4</th>\n",
              "      <td>Food is good.we ordered Kodi drumsticks and ba...</td>\n",
              "      <td>1</td>\n",
              "    </tr>\n",
              "  </tbody>\n",
              "</table>\n",
              "</div>"
            ],
            "text/plain": [
              "                                              Review  Rating\n",
              "0  The ambience was good, food was quite good . h...       1\n",
              "1  Ambience is too good for a pleasant evening. S...       1\n",
              "2  A must try.. great food great ambience. Thnx f...       1\n",
              "3  Soumen das and Arun was a great guy. Only beca...       1\n",
              "4  Food is good.we ordered Kodi drumsticks and ba...       1"
            ]
          },
          "metadata": {},
          "execution_count": 19
        }
      ]
    },
    {
      "cell_type": "code",
      "metadata": {
        "id": "9WBNzwzI8wB0"
      },
      "source": [
        "# Cleaning the reviews ti get rid of white spaces and converting them to lower format\n",
        "clean = re.compile('[^a-z]+')\n",
        "\n",
        "def cleaning(text):\n",
        "    text = str(text)\n",
        "    text = text.lower() \n",
        "    #text = text.strip()  \n",
        "    text = clean.sub(' ', text).strip()\n",
        "    return text"
      ],
      "execution_count": 20,
      "outputs": []
    },
    {
      "cell_type": "code",
      "metadata": {
        "colab": {
          "base_uri": "https://localhost:8080/",
          "height": 326
        },
        "id": "CvQrohFt8wB0",
        "outputId": "39b443d6-2f6f-4332-c5b8-33ca555bf10b"
      },
      "source": [
        "ratings['Review'] = ratings['Review'].apply(cleaning)\n",
        "ratings.head()"
      ],
      "execution_count": 21,
      "outputs": [
        {
          "output_type": "stream",
          "name": "stderr",
          "text": [
            "/usr/local/lib/python3.7/dist-packages/ipykernel_launcher.py:1: SettingWithCopyWarning: \n",
            "A value is trying to be set on a copy of a slice from a DataFrame.\n",
            "Try using .loc[row_indexer,col_indexer] = value instead\n",
            "\n",
            "See the caveats in the documentation: https://pandas.pydata.org/pandas-docs/stable/user_guide/indexing.html#returning-a-view-versus-a-copy\n",
            "  \"\"\"Entry point for launching an IPython kernel.\n"
          ]
        },
        {
          "output_type": "execute_result",
          "data": {
            "text/html": [
              "<div>\n",
              "<style scoped>\n",
              "    .dataframe tbody tr th:only-of-type {\n",
              "        vertical-align: middle;\n",
              "    }\n",
              "\n",
              "    .dataframe tbody tr th {\n",
              "        vertical-align: top;\n",
              "    }\n",
              "\n",
              "    .dataframe thead th {\n",
              "        text-align: right;\n",
              "    }\n",
              "</style>\n",
              "<table border=\"1\" class=\"dataframe\">\n",
              "  <thead>\n",
              "    <tr style=\"text-align: right;\">\n",
              "      <th></th>\n",
              "      <th>Review</th>\n",
              "      <th>Rating</th>\n",
              "    </tr>\n",
              "  </thead>\n",
              "  <tbody>\n",
              "    <tr>\n",
              "      <th>0</th>\n",
              "      <td>the ambience was good food was quite good had ...</td>\n",
              "      <td>1</td>\n",
              "    </tr>\n",
              "    <tr>\n",
              "      <th>1</th>\n",
              "      <td>ambience is too good for a pleasant evening se...</td>\n",
              "      <td>1</td>\n",
              "    </tr>\n",
              "    <tr>\n",
              "      <th>2</th>\n",
              "      <td>a must try great food great ambience thnx for ...</td>\n",
              "      <td>1</td>\n",
              "    </tr>\n",
              "    <tr>\n",
              "      <th>3</th>\n",
              "      <td>soumen das and arun was a great guy only becau...</td>\n",
              "      <td>1</td>\n",
              "    </tr>\n",
              "    <tr>\n",
              "      <th>4</th>\n",
              "      <td>food is good we ordered kodi drumsticks and ba...</td>\n",
              "      <td>1</td>\n",
              "    </tr>\n",
              "  </tbody>\n",
              "</table>\n",
              "</div>"
            ],
            "text/plain": [
              "                                              Review  Rating\n",
              "0  the ambience was good food was quite good had ...       1\n",
              "1  ambience is too good for a pleasant evening se...       1\n",
              "2  a must try great food great ambience thnx for ...       1\n",
              "3  soumen das and arun was a great guy only becau...       1\n",
              "4  food is good we ordered kodi drumsticks and ba...       1"
            ]
          },
          "metadata": {},
          "execution_count": 21
        }
      ]
    },
    {
      "cell_type": "code",
      "metadata": {
        "id": "jqtfJdVN8wB1"
      },
      "source": [
        "def processing(text):\n",
        "  text = str(text)\n",
        "  tokens = word_tokenize(text)\n",
        "  stop_words = set(stopwords.words('english'))\n",
        "  text = ' '.join([i for i in tokens if not i in stop_words])\n",
        "  return text"
      ],
      "execution_count": 22,
      "outputs": []
    },
    {
      "cell_type": "code",
      "metadata": {
        "colab": {
          "base_uri": "https://localhost:8080/",
          "height": 481
        },
        "id": "XRWTccWv8wB1",
        "outputId": "47017124-25ce-4c0d-f4f3-b2e6b65e49b2"
      },
      "source": [
        "ratings['Review'] = ratings['Review'].apply(processing)\n",
        "ratings.head(10)"
      ],
      "execution_count": 23,
      "outputs": [
        {
          "output_type": "stream",
          "name": "stderr",
          "text": [
            "/usr/local/lib/python3.7/dist-packages/ipykernel_launcher.py:1: SettingWithCopyWarning: \n",
            "A value is trying to be set on a copy of a slice from a DataFrame.\n",
            "Try using .loc[row_indexer,col_indexer] = value instead\n",
            "\n",
            "See the caveats in the documentation: https://pandas.pydata.org/pandas-docs/stable/user_guide/indexing.html#returning-a-view-versus-a-copy\n",
            "  \"\"\"Entry point for launching an IPython kernel.\n"
          ]
        },
        {
          "output_type": "execute_result",
          "data": {
            "text/html": [
              "<div>\n",
              "<style scoped>\n",
              "    .dataframe tbody tr th:only-of-type {\n",
              "        vertical-align: middle;\n",
              "    }\n",
              "\n",
              "    .dataframe tbody tr th {\n",
              "        vertical-align: top;\n",
              "    }\n",
              "\n",
              "    .dataframe thead th {\n",
              "        text-align: right;\n",
              "    }\n",
              "</style>\n",
              "<table border=\"1\" class=\"dataframe\">\n",
              "  <thead>\n",
              "    <tr style=\"text-align: right;\">\n",
              "      <th></th>\n",
              "      <th>Review</th>\n",
              "      <th>Rating</th>\n",
              "    </tr>\n",
              "  </thead>\n",
              "  <tbody>\n",
              "    <tr>\n",
              "      <th>0</th>\n",
              "      <td>ambience good food quite good saturday lunch c...</td>\n",
              "      <td>1</td>\n",
              "    </tr>\n",
              "    <tr>\n",
              "      <th>1</th>\n",
              "      <td>ambience good pleasant evening service prompt ...</td>\n",
              "      <td>1</td>\n",
              "    </tr>\n",
              "    <tr>\n",
              "      <th>2</th>\n",
              "      <td>must try great food great ambience thnx servic...</td>\n",
              "      <td>1</td>\n",
              "    </tr>\n",
              "    <tr>\n",
              "      <th>3</th>\n",
              "      <td>soumen das arun great guy behavior sincerety g...</td>\n",
              "      <td>1</td>\n",
              "    </tr>\n",
              "    <tr>\n",
              "      <th>4</th>\n",
              "      <td>food good ordered kodi drumsticks basket mutto...</td>\n",
              "      <td>1</td>\n",
              "    </tr>\n",
              "    <tr>\n",
              "      <th>5</th>\n",
              "      <td>ambiance good service good food apradeecp subr...</td>\n",
              "      <td>1</td>\n",
              "    </tr>\n",
              "    <tr>\n",
              "      <th>6</th>\n",
              "      <td>nice place ambience different food ordered tas...</td>\n",
              "      <td>1</td>\n",
              "    </tr>\n",
              "    <tr>\n",
              "      <th>7</th>\n",
              "      <td>well reading many reviews finally visited plac...</td>\n",
              "      <td>1</td>\n",
              "    </tr>\n",
              "    <tr>\n",
              "      <th>8</th>\n",
              "      <td>excellent food specially like spicy food court...</td>\n",
              "      <td>1</td>\n",
              "    </tr>\n",
              "    <tr>\n",
              "      <th>9</th>\n",
              "      <td>came birthday treat close friend perfect place...</td>\n",
              "      <td>1</td>\n",
              "    </tr>\n",
              "  </tbody>\n",
              "</table>\n",
              "</div>"
            ],
            "text/plain": [
              "                                              Review  Rating\n",
              "0  ambience good food quite good saturday lunch c...       1\n",
              "1  ambience good pleasant evening service prompt ...       1\n",
              "2  must try great food great ambience thnx servic...       1\n",
              "3  soumen das arun great guy behavior sincerety g...       1\n",
              "4  food good ordered kodi drumsticks basket mutto...       1\n",
              "5  ambiance good service good food apradeecp subr...       1\n",
              "6  nice place ambience different food ordered tas...       1\n",
              "7  well reading many reviews finally visited plac...       1\n",
              "8  excellent food specially like spicy food court...       1\n",
              "9  came birthday treat close friend perfect place...       1"
            ]
          },
          "metadata": {},
          "execution_count": 23
        }
      ]
    },
    {
      "cell_type": "code",
      "metadata": {
        "id": "7c8R-_jl8wB1"
      },
      "source": [
        "lemmatizer = WordNetLemmatizer()"
      ],
      "execution_count": 24,
      "outputs": []
    },
    {
      "cell_type": "code",
      "metadata": {
        "id": "Z47MB9AX8wB2"
      },
      "source": [
        "def lemmatizing(text):\n",
        "  data = word_tokenize(text)\n",
        "  result = ' '.join([lemmatizer.lemmatize(w) for w in data])\n",
        "  return result"
      ],
      "execution_count": 25,
      "outputs": []
    },
    {
      "cell_type": "code",
      "metadata": {
        "colab": {
          "base_uri": "https://localhost:8080/",
          "height": 326
        },
        "id": "1YOLF_7T8wB2",
        "outputId": "b3ac4963-44f3-4f5a-e479-09c9382d42ca"
      },
      "source": [
        "ratings['Review'] = ratings['Review'].apply(lemmatizing)\n",
        "ratings.head()"
      ],
      "execution_count": 26,
      "outputs": [
        {
          "output_type": "stream",
          "name": "stderr",
          "text": [
            "/usr/local/lib/python3.7/dist-packages/ipykernel_launcher.py:1: SettingWithCopyWarning: \n",
            "A value is trying to be set on a copy of a slice from a DataFrame.\n",
            "Try using .loc[row_indexer,col_indexer] = value instead\n",
            "\n",
            "See the caveats in the documentation: https://pandas.pydata.org/pandas-docs/stable/user_guide/indexing.html#returning-a-view-versus-a-copy\n",
            "  \"\"\"Entry point for launching an IPython kernel.\n"
          ]
        },
        {
          "output_type": "execute_result",
          "data": {
            "text/html": [
              "<div>\n",
              "<style scoped>\n",
              "    .dataframe tbody tr th:only-of-type {\n",
              "        vertical-align: middle;\n",
              "    }\n",
              "\n",
              "    .dataframe tbody tr th {\n",
              "        vertical-align: top;\n",
              "    }\n",
              "\n",
              "    .dataframe thead th {\n",
              "        text-align: right;\n",
              "    }\n",
              "</style>\n",
              "<table border=\"1\" class=\"dataframe\">\n",
              "  <thead>\n",
              "    <tr style=\"text-align: right;\">\n",
              "      <th></th>\n",
              "      <th>Review</th>\n",
              "      <th>Rating</th>\n",
              "    </tr>\n",
              "  </thead>\n",
              "  <tbody>\n",
              "    <tr>\n",
              "      <th>0</th>\n",
              "      <td>ambience good food quite good saturday lunch c...</td>\n",
              "      <td>1</td>\n",
              "    </tr>\n",
              "    <tr>\n",
              "      <th>1</th>\n",
              "      <td>ambience good pleasant evening service prompt ...</td>\n",
              "      <td>1</td>\n",
              "    </tr>\n",
              "    <tr>\n",
              "      <th>2</th>\n",
              "      <td>must try great food great ambience thnx servic...</td>\n",
              "      <td>1</td>\n",
              "    </tr>\n",
              "    <tr>\n",
              "      <th>3</th>\n",
              "      <td>soumen da arun great guy behavior sincerety go...</td>\n",
              "      <td>1</td>\n",
              "    </tr>\n",
              "    <tr>\n",
              "      <th>4</th>\n",
              "      <td>food good ordered kodi drumstick basket mutton...</td>\n",
              "      <td>1</td>\n",
              "    </tr>\n",
              "  </tbody>\n",
              "</table>\n",
              "</div>"
            ],
            "text/plain": [
              "                                              Review  Rating\n",
              "0  ambience good food quite good saturday lunch c...       1\n",
              "1  ambience good pleasant evening service prompt ...       1\n",
              "2  must try great food great ambience thnx servic...       1\n",
              "3  soumen da arun great guy behavior sincerety go...       1\n",
              "4  food good ordered kodi drumstick basket mutton...       1"
            ]
          },
          "metadata": {},
          "execution_count": 26
        }
      ]
    },
    {
      "cell_type": "markdown",
      "metadata": {
        "id": "48rz-dMM4GiS"
      },
      "source": [
        "# Visualisations"
      ]
    },
    {
      "cell_type": "code",
      "metadata": {
        "colab": {
          "base_uri": "https://localhost:8080/",
          "height": 366
        },
        "id": "mWV_S_XA4EuQ",
        "outputId": "59f4565c-8f40-4389-f328-833c5f645cbf"
      },
      "source": [
        "sns.countplot(df['Rating']).set_title(\"Number of reviews for each rating\")"
      ],
      "execution_count": 112,
      "outputs": [
        {
          "output_type": "stream",
          "name": "stderr",
          "text": [
            "/usr/local/lib/python3.7/dist-packages/seaborn/_decorators.py:43: FutureWarning: Pass the following variable as a keyword arg: x. From version 0.12, the only valid positional argument will be `data`, and passing other arguments without an explicit keyword will result in an error or misinterpretation.\n",
            "  FutureWarning\n"
          ]
        },
        {
          "output_type": "execute_result",
          "data": {
            "text/plain": [
              "Text(0.5, 1.0, 'Number of reviews for each rating')"
            ]
          },
          "metadata": {},
          "execution_count": 112
        },
        {
          "output_type": "display_data",
          "data": {
            "image/png": "[encoded data removed]",
            "text/plain": [
              "<Figure size 432x288 with 1 Axes>"
            ]
          },
          "metadata": {
            "needs_background": "light"
          }
        }
      ]
    },
    {
      "cell_type": "code",
      "metadata": {
        "colab": {
          "base_uri": "https://localhost:8080/",
          "height": 404
        },
        "id": "ZbWLfmMN4v67",
        "outputId": "4d221d88-236e-469b-c6f0-1778bad3fab9"
      },
      "source": [
        "sample = pd.DataFrame()\n",
        "# Copying only 5 rating data\n",
        "sample['Restaurant'] = df['Restaurant'].where(df['Rating'] == 5.0)\n",
        "sample = sample.dropna()\n",
        "sample['Restaurant'].value_counts()[:10].plot(kind = 'barh', figsize = (8, 6), rot = 0)\n",
        "plt.title('Top 10 Restaurants who have 5 rating')\n",
        "plt.xlabel('Counts')\n",
        "plt.ylabel('Restaurant')\n",
        "plt.show()"
      ],
      "execution_count": 106,
      "outputs": [
        {
          "output_type": "display_data",
          "data": {
            "image/png": "[encoded data removed]",
            "text/plain": [
              "<Figure size 576x432 with 1 Axes>"
            ]
          },
          "metadata": {
            "needs_background": "light"
          }
        }
      ]
    },
    {
      "cell_type": "code",
      "metadata": {
        "colab": {
          "base_uri": "https://localhost:8080/",
          "height": 404
        },
        "id": "M4b5zd7MBhNX",
        "outputId": "68b1f8d8-cbd5-47f4-d187-9241e69833a6"
      },
      "source": [
        "sample2 = pd.DataFrame()\n",
        "# Copying only 1 rating data\n",
        "sample2['Restaurant'] = df['Restaurant'].where(df['Rating'] == 1.0)\n",
        "sample2 = sample2.dropna()\n",
        "sample2['Restaurant'].value_counts()[:10].plot(kind = 'barh', figsize = (8, 6), rot = 0)\n",
        "plt.title('Top 10 Restaurants who have least rating (1)')\n",
        "plt.xlabel('Counts')\n",
        "plt.ylabel('Restaurant')\n",
        "plt.show()"
      ],
      "execution_count": 107,
      "outputs": [
        {
          "output_type": "display_data",
          "data": {
            "image/png": "[encoded data removed]",
            "text/plain": [
              "<Figure size 576x432 with 1 Axes>"
            ]
          },
          "metadata": {
            "needs_background": "light"
          }
        }
      ]
    },
    {
      "cell_type": "markdown",
      "metadata": {
        "id": "wVqSDw8C8wB2"
      },
      "source": [
        "# Dividing into Train and Test Splits"
      ]
    },
    {
      "cell_type": "code",
      "metadata": {
        "id": "AMx_HpzC8wB2"
      },
      "source": [
        "# Separating input variable from the target variable\n",
        "input = ratings['Review']\n",
        "target = ratings['Rating']"
      ],
      "execution_count": 27,
      "outputs": []
    },
    {
      "cell_type": "code",
      "metadata": {
        "id": "qZSljZyM8wB3"
      },
      "source": [
        "x_train, x_test, y_train, y_test = train_test_split(input, target, test_size = 0.2, random_state = 0)"
      ],
      "execution_count": 28,
      "outputs": []
    },
    {
      "cell_type": "code",
      "metadata": {
        "colab": {
          "base_uri": "https://localhost:8080/"
        },
        "id": "vDnaZSwg8wB3",
        "outputId": "d085f7aa-6c61-4059-9663-043a0a50e1b9"
      },
      "source": [
        "print(\"Length of x_train: \", len(x_train))\n",
        "print(\"Length of y_train:\", len(y_train))\n",
        "print(\"Length of x_test: \", len(x_test))\n",
        "print(\"Length of y_test:\", len(y_test))"
      ],
      "execution_count": 29,
      "outputs": [
        {
          "output_type": "stream",
          "name": "stdout",
          "text": [
            "Length of x_train:  7964\n",
            "Length of y_train: 7964\n",
            "Length of x_test:  1991\n",
            "Length of y_test: 1991\n"
          ]
        }
      ]
    },
    {
      "cell_type": "markdown",
      "metadata": {
        "id": "zRgRAvIf8wB3"
      },
      "source": [
        "# Data Transformation"
      ]
    },
    {
      "cell_type": "markdown",
      "metadata": {
        "id": "zc0K8pJX8wB3"
      },
      "source": [
        "## Using Count Vectors"
      ]
    },
    {
      "cell_type": "code",
      "metadata": {
        "id": "QpO75-Rr8wB4"
      },
      "source": [
        "count_vector = CountVectorizer(analyzer = 'word', token_pattern = r'\\w{1,}')\n",
        "count_vector.fit(x_train)\n",
        "# Transforming the train and test dataset\n",
        "x_train_countvector = count_vector.transform(x_train)\n",
        "x_test_countvector = count_vector.transform(x_test)"
      ],
      "execution_count": 30,
      "outputs": []
    },
    {
      "cell_type": "markdown",
      "metadata": {
        "id": "JwbE-T-l8wB4"
      },
      "source": [
        "## Using Word-level  TF IDF Vectors "
      ]
    },
    {
      "cell_type": "code",
      "metadata": {
        "id": "GYPVA9aT8wB4"
      },
      "source": [
        "tfidf_vector = TfidfVectorizer(analyzer = 'word', token_pattern = r'\\w{1,}', max_features = 5000)\n",
        "tfidf_vector.fit(x_train)\n",
        "x_train_tfidf =  tfidf_vector.transform(x_train)\n",
        "x_test_tfidf =  tfidf_vector.transform(x_test)"
      ],
      "execution_count": 31,
      "outputs": []
    },
    {
      "cell_type": "markdown",
      "metadata": {
        "id": "qQhi7y8q8wB4"
      },
      "source": [
        "## Using N-gram level Vectors"
      ]
    },
    {
      "cell_type": "code",
      "metadata": {
        "id": "H0b7hSao8wB4"
      },
      "source": [
        "tfidf_vector_ngram = TfidfVectorizer(analyzer = 'word', token_pattern = r'\\w{1,}', ngram_range = (2,3), max_features = 5000)\n",
        "tfidf_vector_ngram.fit(x_train)\n",
        "x_train_tfidf_ngram =  tfidf_vector_ngram.transform(x_train)\n",
        "x_test_tfidf_ngram =  tfidf_vector_ngram.transform(x_test)"
      ],
      "execution_count": 32,
      "outputs": []
    },
    {
      "cell_type": "markdown",
      "metadata": {
        "id": "dBQTwua18wB5"
      },
      "source": [
        "## Using Character level Vectors"
      ]
    },
    {
      "cell_type": "code",
      "metadata": {
        "id": "PZSRuMJB8wB5"
      },
      "source": [
        "tfidf_vector_ngram_chars = TfidfVectorizer(analyzer = 'char', ngram_range = (2,3), max_features = 5000)\n",
        "tfidf_vector_ngram_chars.fit(x_train)\n",
        "x_train_tfidf_ngram_char =  tfidf_vector_ngram_chars.transform(x_train)\n",
        "x_test_tfidf_ngram_char =  tfidf_vector_ngram_chars.transform(x_test)"
      ],
      "execution_count": 33,
      "outputs": []
    },
    {
      "cell_type": "markdown",
      "metadata": {
        "id": "3DYIzoa48wB5"
      },
      "source": [
        "# Modelling"
      ]
    },
    {
      "cell_type": "code",
      "metadata": {
        "id": "jGfEKx1u8wB5"
      },
      "source": [
        "def modelling(model, vector_xtrain, vector_xtest):\n",
        "    # Fitting the trained vector on the classifier\n",
        "    model.fit(vector_xtrain, y_train)\n",
        "    \n",
        "    # Predicting on test data\n",
        "    prediction = model.predict(vector_xtest)\n",
        "    \n",
        "    return accuracy_score(prediction, y_test)"
      ],
      "execution_count": 34,
      "outputs": []
    },
    {
      "cell_type": "markdown",
      "metadata": {
        "id": "PGsbP-yq8wB5"
      },
      "source": [
        "## Naive Bayes"
      ]
    },
    {
      "cell_type": "code",
      "metadata": {
        "colab": {
          "base_uri": "https://localhost:8080/"
        },
        "id": "rAfZh2X88wB6",
        "outputId": "00a655df-8844-4f67-af1d-f8877b851e33"
      },
      "source": [
        "accuracy1 = modelling(MultinomialNB(), x_train_countvector, x_test_countvector) * 100\n",
        "print(\"Accuracy for Naive Bayes on Count Vectors: \", accuracy1)"
      ],
      "execution_count": 39,
      "outputs": [
        {
          "output_type": "stream",
          "name": "stdout",
          "text": [
            "Accuracy for Naive Bayes on Count Vectors:  86.58965344048217\n"
          ]
        }
      ]
    },
    {
      "cell_type": "code",
      "metadata": {
        "colab": {
          "base_uri": "https://localhost:8080/"
        },
        "id": "mYQsNAY48wB6",
        "outputId": "80ab39bb-3cac-4832-fab8-1bb2156d7f08"
      },
      "source": [
        "accuracy2 = modelling(MultinomialNB(), x_train_tfidf, x_test_tfidf) * 100\n",
        "print(\"Accuracy for Naive Bayes on Word level TF-IDF: \", accuracy2)"
      ],
      "execution_count": 40,
      "outputs": [
        {
          "output_type": "stream",
          "name": "stdout",
          "text": [
            "Accuracy for Naive Bayes on Word level TF-IDF:  85.38422903063787\n"
          ]
        }
      ]
    },
    {
      "cell_type": "code",
      "metadata": {
        "colab": {
          "base_uri": "https://localhost:8080/"
        },
        "id": "dOYM2mpY8wB6",
        "outputId": "32abaf10-231e-43a6-f4af-fe68b9f47343"
      },
      "source": [
        "accuracy3 = modelling(MultinomialNB(), x_train_tfidf_ngram, x_test_tfidf_ngram) * 100\n",
        "print(\"Accuracy for Naive Bayes on N-gram level vectors: \", accuracy3)"
      ],
      "execution_count": 41,
      "outputs": [
        {
          "output_type": "stream",
          "name": "stdout",
          "text": [
            "Accuracy for Naive Bayes on N-gram level vectors:  80.46207935710699\n"
          ]
        }
      ]
    },
    {
      "cell_type": "code",
      "metadata": {
        "colab": {
          "base_uri": "https://localhost:8080/"
        },
        "id": "2SEFRiQH8wB7",
        "outputId": "0a7a41ff-2057-4145-c1c5-e0aa639808f8"
      },
      "source": [
        "accuracy4 = modelling(MultinomialNB(), x_train_tfidf_ngram_char, x_test_tfidf_ngram_char) * 100\n",
        "print(\"Accuracy for Naive Bayes on character level vectors: \", accuracy4)"
      ],
      "execution_count": 42,
      "outputs": [
        {
          "output_type": "stream",
          "name": "stdout",
          "text": [
            "Accuracy for Naive Bayes on character level vectors:  83.92767453540935\n"
          ]
        }
      ]
    },
    {
      "cell_type": "markdown",
      "metadata": {
        "id": "PrC9UlPY8wB7"
      },
      "source": [
        "## Logistic Regression"
      ]
    },
    {
      "cell_type": "code",
      "metadata": {
        "scrolled": true,
        "colab": {
          "base_uri": "https://localhost:8080/"
        },
        "id": "KGlaTz1K8wB7",
        "outputId": "c4aeb0f8-5503-451d-b9f4-43685dc37769"
      },
      "source": [
        "accuracyl1 = modelling(LogisticRegression(), x_train_countvector, x_test_countvector) * 100\n",
        "print(\"Accuracy for Logistic Regression on Count Vectors: \", accuracyl1)"
      ],
      "execution_count": 43,
      "outputs": [
        {
          "output_type": "stream",
          "name": "stdout",
          "text": [
            "Accuracy for Logistic Regression on Count Vectors:  85.93671521848317\n"
          ]
        },
        {
          "output_type": "stream",
          "name": "stderr",
          "text": [
            "/usr/local/lib/python3.7/dist-packages/sklearn/linear_model/_logistic.py:940: ConvergenceWarning: lbfgs failed to converge (status=1):\n",
            "STOP: TOTAL NO. of ITERATIONS REACHED LIMIT.\n",
            "\n",
            "Increase the number of iterations (max_iter) or scale the data as shown in:\n",
            "    https://scikit-learn.org/stable/modules/preprocessing.html\n",
            "Please also refer to the documentation for alternative solver options:\n",
            "    https://scikit-learn.org/stable/modules/linear_model.html#logistic-regression\n",
            "  extra_warning_msg=_LOGISTIC_SOLVER_CONVERGENCE_MSG)\n"
          ]
        }
      ]
    },
    {
      "cell_type": "code",
      "metadata": {
        "colab": {
          "base_uri": "https://localhost:8080/"
        },
        "id": "YXYJ8zTv8wB7",
        "outputId": "40f9bc83-b79e-4e61-d43b-59b3ab4084a0"
      },
      "source": [
        "accuracyl2 = modelling(LogisticRegression(), x_train_tfidf, x_test_tfidf) * 100\n",
        "print(\"Accuracy for Logistic Regression on Word level TF-IDF: \", accuracyl2)"
      ],
      "execution_count": 44,
      "outputs": [
        {
          "output_type": "stream",
          "name": "stdout",
          "text": [
            "Accuracy for Logistic Regression on Word level TF-IDF:  87.64439979909594\n"
          ]
        }
      ]
    },
    {
      "cell_type": "code",
      "metadata": {
        "colab": {
          "base_uri": "https://localhost:8080/"
        },
        "id": "j-l3JQYx8wB8",
        "outputId": "6ede077a-f205-4c57-8286-7d1f896a476b"
      },
      "source": [
        "accuracyl3 = modelling(LogisticRegression(), x_train_tfidf_ngram, x_test_tfidf_ngram) * 100\n",
        "print(\"Accuracy for Logistic Regression on N-gram level vectors: \", accuracyl3)"
      ],
      "execution_count": 45,
      "outputs": [
        {
          "output_type": "stream",
          "name": "stdout",
          "text": [
            "Accuracy for Logistic Regression on N-gram level vectors:  79.7086891009543\n"
          ]
        }
      ]
    },
    {
      "cell_type": "code",
      "metadata": {
        "colab": {
          "base_uri": "https://localhost:8080/"
        },
        "id": "IVrl5Teh8wB8",
        "outputId": "ca099b4b-3880-456f-d33c-0ff71bb47c93"
      },
      "source": [
        "accuracyl4 = modelling(LogisticRegression(), x_train_tfidf_ngram_char, x_test_tfidf_ngram_char) * 100\n",
        "print(\"Accuracy for Logistic Regression on character level vectors: \", accuracyl4)"
      ],
      "execution_count": 46,
      "outputs": [
        {
          "output_type": "stream",
          "name": "stdout",
          "text": [
            "Accuracy for Logistic Regression on character level vectors:  85.98694123556002\n"
          ]
        }
      ]
    },
    {
      "cell_type": "markdown",
      "metadata": {
        "id": "4UjrWgYv8wB8"
      },
      "source": [
        "## Support Vector Machine"
      ]
    },
    {
      "cell_type": "code",
      "metadata": {
        "colab": {
          "base_uri": "https://localhost:8080/"
        },
        "id": "sj37EmFW8wB8",
        "outputId": "69969490-0d53-41a8-9326-a40d2a926874"
      },
      "source": [
        "accuracys1 = modelling(SVC(), x_train_countvector, x_test_countvector) * 100\n",
        "print(\"Accuracy for SVM on Count Vectors: \", accuracys1)"
      ],
      "execution_count": 47,
      "outputs": [
        {
          "output_type": "stream",
          "name": "stdout",
          "text": [
            "Accuracy for SVM on Count Vectors:  85.6353591160221\n"
          ]
        }
      ]
    },
    {
      "cell_type": "code",
      "metadata": {
        "colab": {
          "base_uri": "https://localhost:8080/"
        },
        "id": "iyutcJBe8wB9",
        "outputId": "26c5d602-938d-493f-9005-41c3b8cb709e"
      },
      "source": [
        "accuracys2 = modelling(SVC(), x_train_tfidf, x_test_tfidf) * 100\n",
        "print(\"Accuracy for SVM on Word level TF-IDF: \", accuracys2)"
      ],
      "execution_count": 48,
      "outputs": [
        {
          "output_type": "stream",
          "name": "stdout",
          "text": [
            "Accuracy for SVM on Word level TF-IDF:  87.29281767955801\n"
          ]
        }
      ]
    },
    {
      "cell_type": "code",
      "metadata": {
        "colab": {
          "base_uri": "https://localhost:8080/"
        },
        "id": "8c81sKIK8wB9",
        "outputId": "35d34dce-4bdf-4717-ba79-90c82303870b"
      },
      "source": [
        "accuracys3 = modelling(SVC(), x_train_tfidf_ngram, x_test_tfidf_ngram) * 100\n",
        "print(\"Accuracy for SVM on N-gram level vectors: \", accuracys3)"
      ],
      "execution_count": 49,
      "outputs": [
        {
          "output_type": "stream",
          "name": "stdout",
          "text": [
            "Accuracy for SVM on N-gram level vectors:  79.65846308387745\n"
          ]
        }
      ]
    },
    {
      "cell_type": "code",
      "metadata": {
        "colab": {
          "base_uri": "https://localhost:8080/"
        },
        "id": "VHOqr87o8wB9",
        "outputId": "0bd59ddc-4dd0-47ec-a54b-e4f3a4813298"
      },
      "source": [
        "accuracys4 = modelling(SVC(), x_train_tfidf_ngram_char, x_test_tfidf_ngram_char) * 100\n",
        "print(\"Accuracy for SVM on character level vectors: \", accuracys4)"
      ],
      "execution_count": 50,
      "outputs": [
        {
          "output_type": "stream",
          "name": "stdout",
          "text": [
            "Accuracy for SVM on character level vectors:  86.58965344048217\n"
          ]
        }
      ]
    },
    {
      "cell_type": "markdown",
      "metadata": {
        "id": "afDMl1gR8wB9"
      },
      "source": [
        "## Random Forest"
      ]
    },
    {
      "cell_type": "code",
      "metadata": {
        "colab": {
          "base_uri": "https://localhost:8080/"
        },
        "id": "tKVxDGHG8wB-",
        "outputId": "8a3157d1-1e53-4d03-e31a-a4036e28d235"
      },
      "source": [
        "accuracyr1 = modelling(RandomForestClassifier(), x_train_countvector, x_test_countvector) * 100\n",
        "print(\"Accuracy for Random Forest on Count Vectors: \", accuracyr1)"
      ],
      "execution_count": 51,
      "outputs": [
        {
          "output_type": "stream",
          "name": "stdout",
          "text": [
            "Accuracy for Random Forest on Count Vectors:  86.08739326971371\n"
          ]
        }
      ]
    },
    {
      "cell_type": "code",
      "metadata": {
        "colab": {
          "base_uri": "https://localhost:8080/"
        },
        "id": "mifdTpyZ8wB-",
        "outputId": "089682e6-e071-418a-c9a8-0534eabab736"
      },
      "source": [
        "accuracyr2 = modelling(RandomForestClassifier(), x_train_tfidf, x_test_tfidf) * 100\n",
        "print(\"Accuracy for Random Forest on Word level TF-IDF: \", accuracyr2)"
      ],
      "execution_count": 52,
      "outputs": [
        {
          "output_type": "stream",
          "name": "stdout",
          "text": [
            "Accuracy for Random Forest on Word level TF-IDF:  85.88648920140632\n"
          ]
        }
      ]
    },
    {
      "cell_type": "code",
      "metadata": {
        "colab": {
          "base_uri": "https://localhost:8080/"
        },
        "id": "C4oXNUO88wB-",
        "outputId": "f41bbae3-8e36-4a57-b469-6e8c6bf6f24c"
      },
      "source": [
        "accuracyr3 = modelling(RandomForestClassifier(), x_train_tfidf_ngram, x_test_tfidf_ngram) * 100\n",
        "print(\"Accuracy for Random Forest on N-gram level vectors: \", accuracyr3)"
      ],
      "execution_count": 53,
      "outputs": [
        {
          "output_type": "stream",
          "name": "stdout",
          "text": [
            "Accuracy for Random Forest on N-gram level vectors:  78.9552988448016\n"
          ]
        }
      ]
    },
    {
      "cell_type": "code",
      "metadata": {
        "colab": {
          "base_uri": "https://localhost:8080/"
        },
        "id": "Fa-Xse-i8wB-",
        "outputId": "10cc49c8-fe4f-4014-d24c-f2881c5ef85a"
      },
      "source": [
        "accuracyr4 = modelling(RandomForestClassifier(), x_train_tfidf_ngram_char, x_test_tfidf_ngram_char) * 100\n",
        "print(\"Accuracy for Random Forest on character level vectors: \", accuracyr4)"
      ],
      "execution_count": 54,
      "outputs": [
        {
          "output_type": "stream",
          "name": "stdout",
          "text": [
            "Accuracy for Random Forest on character level vectors:  83.57609241587141\n"
          ]
        }
      ]
    },
    {
      "cell_type": "markdown",
      "metadata": {
        "id": "a7lmBypl8wB-"
      },
      "source": [
        "## Boosting"
      ]
    },
    {
      "cell_type": "code",
      "metadata": {
        "colab": {
          "base_uri": "https://localhost:8080/"
        },
        "id": "3gwDMsFt8wB_",
        "outputId": "eecfbc99-27f0-430e-ca62-abe115779292"
      },
      "source": [
        "accuracyb1 = modelling(GradientBoostingClassifier(), x_train_countvector, x_test_countvector) * 100\n",
        "print(\"Accuracy for Boosting on Count Vectors: \", accuracyb1)"
      ],
      "execution_count": 62,
      "outputs": [
        {
          "output_type": "stream",
          "name": "stdout",
          "text": [
            "Accuracy for Boosting on Count Vectors:  82.32044198895028\n"
          ]
        }
      ]
    },
    {
      "cell_type": "code",
      "metadata": {
        "colab": {
          "base_uri": "https://localhost:8080/"
        },
        "id": "mUmYrh768wB_",
        "outputId": "30f31933-7c78-4133-dc3d-ad1a7227b230"
      },
      "source": [
        "accuracyb2 = modelling(GradientBoostingClassifier(), x_train_tfidf, x_test_tfidf) * 100\n",
        "print(\"Accuracy for Boosting on Word level TF-IDF: \", accuracyb2)"
      ],
      "execution_count": 63,
      "outputs": [
        {
          "output_type": "stream",
          "name": "stdout",
          "text": [
            "Accuracy for Boosting on Word level TF-IDF:  83.07383224510296\n"
          ]
        }
      ]
    },
    {
      "cell_type": "code",
      "metadata": {
        "colab": {
          "base_uri": "https://localhost:8080/"
        },
        "id": "Nz0VmLxb8wB_",
        "outputId": "6245f505-cc33-4e0d-ef9f-497340b1e4f0"
      },
      "source": [
        "accuracyb3 = modelling(GradientBoostingClassifier(), x_train_tfidf_ngram, x_test_tfidf_ngram) * 100\n",
        "print(\"Accuracy for Boosting on N-gram level vectors: \", accuracyb3)"
      ],
      "execution_count": 64,
      "outputs": [
        {
          "output_type": "stream",
          "name": "stdout",
          "text": [
            "Accuracy for Boosting on N-gram level vectors:  70.86891009542943\n"
          ]
        }
      ]
    },
    {
      "cell_type": "code",
      "metadata": {
        "colab": {
          "base_uri": "https://localhost:8080/"
        },
        "id": "P17hrhT18wB_",
        "outputId": "550a9e9c-9081-47c3-9f28-7275236d6ddc"
      },
      "source": [
        "accuracyb4 = modelling(GradientBoostingClassifier(), x_train_tfidf_ngram_char, x_test_tfidf_ngram_char) * 100\n",
        "print(\"Accuracy for Boosting on character level vectors: \", accuracyb4)"
      ],
      "execution_count": 65,
      "outputs": [
        {
          "output_type": "stream",
          "name": "stdout",
          "text": [
            "Accuracy for Boosting on character level vectors:  83.7769964841788\n"
          ]
        }
      ]
    },
    {
      "cell_type": "code",
      "metadata": {
        "colab": {
          "base_uri": "https://localhost:8080/",
          "height": 173
        },
        "id": "LX0cVgZXKVEf",
        "outputId": "3db93ad9-17a6-419e-a200-6a3efa413675"
      },
      "source": [
        "performance = {'Naive Bayes':[accuracy1, accuracy2, accuracy3, accuracy4], 'Logistic':[accuracyl1, accuracyl2, accuracyl3, accuracyl4], 'SVM':[accuracys1, accuracys2, accuracys3, accuracys4], 'Random Forest':[accuracyr1, accuracyr2, accuracyr3, accuracyr4], 'Boosting':[accuracyb1, accuracyb2, accuracyb3, accuracyb4]} \n",
        "accuracy = pd.DataFrame(performance, index =['Count Vectors', 'Word level TF IDF', 'N-gram vector', 'Character vector']) \n",
        "  \n",
        "# print the data \n",
        "accuracy"
      ],
      "execution_count": 88,
      "outputs": [
        {
          "output_type": "execute_result",
          "data": {
            "text/html": [
              "<div>\n",
              "<style scoped>\n",
              "    .dataframe tbody tr th:only-of-type {\n",
              "        vertical-align: middle;\n",
              "    }\n",
              "\n",
              "    .dataframe tbody tr th {\n",
              "        vertical-align: top;\n",
              "    }\n",
              "\n",
              "    .dataframe thead th {\n",
              "        text-align: right;\n",
              "    }\n",
              "</style>\n",
              "<table border=\"1\" class=\"dataframe\">\n",
              "  <thead>\n",
              "    <tr style=\"text-align: right;\">\n",
              "      <th></th>\n",
              "      <th>Naive Bayes</th>\n",
              "      <th>Logistic</th>\n",
              "      <th>SVM</th>\n",
              "      <th>Random Forest</th>\n",
              "      <th>Boosting</th>\n",
              "    </tr>\n",
              "  </thead>\n",
              "  <tbody>\n",
              "    <tr>\n",
              "      <th>Count Vectors</th>\n",
              "      <td>86.589653</td>\n",
              "      <td>85.936715</td>\n",
              "      <td>85.635359</td>\n",
              "      <td>86.087393</td>\n",
              "      <td>82.320442</td>\n",
              "    </tr>\n",
              "    <tr>\n",
              "      <th>Word level TF IDF</th>\n",
              "      <td>85.384229</td>\n",
              "      <td>87.644400</td>\n",
              "      <td>87.292818</td>\n",
              "      <td>85.886489</td>\n",
              "      <td>83.073832</td>\n",
              "    </tr>\n",
              "    <tr>\n",
              "      <th>N-gram vector</th>\n",
              "      <td>80.462079</td>\n",
              "      <td>79.708689</td>\n",
              "      <td>79.658463</td>\n",
              "      <td>78.955299</td>\n",
              "      <td>70.868910</td>\n",
              "    </tr>\n",
              "    <tr>\n",
              "      <th>Character vector</th>\n",
              "      <td>83.927675</td>\n",
              "      <td>85.986941</td>\n",
              "      <td>86.589653</td>\n",
              "      <td>83.576092</td>\n",
              "      <td>83.776996</td>\n",
              "    </tr>\n",
              "  </tbody>\n",
              "</table>\n",
              "</div>"
            ],
            "text/plain": [
              "                   Naive Bayes   Logistic        SVM  Random Forest   Boosting\n",
              "Count Vectors        86.589653  85.936715  85.635359      86.087393  82.320442\n",
              "Word level TF IDF    85.384229  87.644400  87.292818      85.886489  83.073832\n",
              "N-gram vector        80.462079  79.708689  79.658463      78.955299  70.868910\n",
              "Character vector     83.927675  85.986941  86.589653      83.576092  83.776996"
            ]
          },
          "metadata": {},
          "execution_count": 88
        }
      ]
    },
    {
      "cell_type": "code",
      "metadata": {
        "colab": {
          "base_uri": "https://localhost:8080/",
          "height": 302
        },
        "id": "0z-2rGe0LyFU",
        "outputId": "9eefbc04-4696-42ef-bdb6-95eab77971c4"
      },
      "source": [
        "accuracy.plot.line(fontsize = 11, marker = 'o');\n",
        "plt.title(\"Accuracy for models\", fontsize = 15);\n",
        "plt.xlabel(\"Vectors\", fontsize=15)\n",
        "plt.ylabel(\"Accuracy\", fontsize=15)\n",
        "plt.show()"
      ],
      "execution_count": 89,
      "outputs": [
        {
          "output_type": "display_data",
          "data": {
            "image/png": "[encoded data removed]",
            "text/plain": [
              "<Figure size 432x288 with 1 Axes>"
            ]
          },
          "metadata": {
            "needs_background": "light"
          }
        }
      ]
    },
    {
      "cell_type": "markdown",
      "metadata": {
        "id": "thxIySkQCSTN"
      },
      "source": [
        "## Long Short Term Memory"
      ]
    },
    {
      "cell_type": "code",
      "metadata": {
        "colab": {
          "base_uri": "https://localhost:8080/"
        },
        "id": "PGvpLXZl8wCA",
        "outputId": "8e282dd1-e194-4776-b71b-f77e7a6dc285"
      },
      "source": [
        "# Maximum words that needs to be used\n",
        "max_words = 10000\n",
        "# Maximum length for sequence\n",
        "max_length = 50\n",
        "# Embedding dimension should be between 50 to 300\n",
        "embedding = 100\n",
        "token = Tokenizer(num_words = max_words, filters = '!\"#$%&()*+,-./:;<=>?@[\\]^_`{|}~', lower = True)\n",
        "token.fit_on_texts(input)\n",
        "word_index = token.word_index\n",
        "print('Unique tokens: ', len(word_index))"
      ],
      "execution_count": 66,
      "outputs": [
        {
          "output_type": "stream",
          "name": "stdout",
          "text": [
            "Unique tokens:  13265\n"
          ]
        }
      ]
    },
    {
      "cell_type": "code",
      "metadata": {
        "id": "MfCAMokzEjH0"
      },
      "source": [
        "from keras.preprocessing.sequence import pad_sequences"
      ],
      "execution_count": 67,
      "outputs": []
    },
    {
      "cell_type": "code",
      "metadata": {
        "colab": {
          "base_uri": "https://localhost:8080/"
        },
        "id": "F2NP9yjAExSC",
        "outputId": "bac80541-1a99-486f-8037-2928189eaa4e"
      },
      "source": [
        "input = token.texts_to_sequences(input)\n",
        "input = pad_sequences(input, maxlen = max_length)\n",
        "print('Shape of data tensor:', input.shape)"
      ],
      "execution_count": 68,
      "outputs": [
        {
          "output_type": "stream",
          "name": "stdout",
          "text": [
            "Shape of data tensor: (9955, 50)\n"
          ]
        }
      ]
    },
    {
      "cell_type": "code",
      "metadata": {
        "id": "Q8zVGDD7FF5D"
      },
      "source": [
        "x2_train, x2_test, y2_train, y2_test = train_test_split(input, target, test_size = 0.2, random_state = 0)"
      ],
      "execution_count": 69,
      "outputs": []
    },
    {
      "cell_type": "code",
      "metadata": {
        "colab": {
          "base_uri": "https://localhost:8080/"
        },
        "id": "-282CfUdFYdV",
        "outputId": "e3b69302-d487-4c12-8d10-e25cccaf76b7"
      },
      "source": [
        "print(\"Length of x_train: \", len(x2_train))\n",
        "print(\"Length of y_train:\", len(y2_train))\n",
        "print(\"Length of x_test: \", len(x2_test))\n",
        "print(\"Length of y_test:\", len(y2_test))"
      ],
      "execution_count": 70,
      "outputs": [
        {
          "output_type": "stream",
          "name": "stdout",
          "text": [
            "Length of x_train:  7964\n",
            "Length of y_train: 7964\n",
            "Length of x_test:  1991\n",
            "Length of y_test: 1991\n"
          ]
        }
      ]
    },
    {
      "cell_type": "code",
      "metadata": {
        "colab": {
          "base_uri": "https://localhost:8080/"
        },
        "id": "bhjrOsf7FlMo",
        "outputId": "2f9dfb4b-379d-4f66-b498-734721f7d509"
      },
      "source": [
        "print(x2_train.shape,y2_train.shape)\n",
        "print(x2_test.shape,y2_test.shape)"
      ],
      "execution_count": 72,
      "outputs": [
        {
          "output_type": "stream",
          "name": "stdout",
          "text": [
            "(7964, 50) (7964,)\n",
            "(1991, 50) (1991,)\n"
          ]
        }
      ]
    },
    {
      "cell_type": "code",
      "metadata": {
        "colab": {
          "base_uri": "https://localhost:8080/"
        },
        "id": "Fq5NAVrcFtYY",
        "outputId": "c317284d-f208-4541-95df-f85afaf03179"
      },
      "source": [
        "model = Sequential()\n",
        "model.add(Embedding(input_dim = max_words, output_dim = embedding, input_length = max_length))\n",
        "model.add(LSTM(300, recurrent_dropout = 0.1))\n",
        "model.add(Dropout(0.2))\n",
        "model.add(Dense(1, activation = 'sigmoid'))\n",
        "model.compile(loss = 'binary_crossentropy', optimizer = 'adam', metrics = ['accuracy'])\n",
        "print(model.summary())\n",
        "history = model.fit(x2_train, y2_train, validation_data = (x2_test, y2_test), epochs = 10, batch_size = 64)"
      ],
      "execution_count": 74,
      "outputs": [
        {
          "output_type": "stream",
          "name": "stdout",
          "text": [
            "Model: \"sequential_1\"\n",
            "_________________________________________________________________\n",
            "Layer (type)                 Output Shape              Param #   \n",
            "=================================================================\n",
            "embedding_1 (Embedding)      (None, 50, 100)           1000000   \n",
            "_________________________________________________________________\n",
            "lstm_1 (LSTM)                (None, 300)               481200    \n",
            "_________________________________________________________________\n",
            "dropout_1 (Dropout)          (None, 300)               0         \n",
            "_________________________________________________________________\n",
            "dense_1 (Dense)              (None, 1)                 301       \n",
            "=================================================================\n",
            "Total params: 1,481,501\n",
            "Trainable params: 1,481,501\n",
            "Non-trainable params: 0\n",
            "_________________________________________________________________\n",
            "None\n",
            "Epoch 1/10\n",
            "125/125 [==============================] - 75s 584ms/step - loss: 0.4732 - accuracy: 0.7681 - val_loss: 0.3247 - val_accuracy: 0.8744\n",
            "Epoch 2/10\n",
            "125/125 [==============================] - 73s 585ms/step - loss: 0.2699 - accuracy: 0.8929 - val_loss: 0.3523 - val_accuracy: 0.8684\n",
            "Epoch 3/10\n",
            "125/125 [==============================] - 73s 583ms/step - loss: 0.2002 - accuracy: 0.9242 - val_loss: 0.3473 - val_accuracy: 0.8689\n",
            "Epoch 4/10\n",
            "125/125 [==============================] - 72s 576ms/step - loss: 0.1507 - accuracy: 0.9427 - val_loss: 0.4404 - val_accuracy: 0.8629\n",
            "Epoch 5/10\n",
            "125/125 [==============================] - 73s 581ms/step - loss: 0.1200 - accuracy: 0.9579 - val_loss: 0.5122 - val_accuracy: 0.8533\n",
            "Epoch 6/10\n",
            "125/125 [==============================] - 76s 606ms/step - loss: 0.0998 - accuracy: 0.9638 - val_loss: 0.4801 - val_accuracy: 0.8393\n",
            "Epoch 7/10\n",
            "125/125 [==============================] - 73s 588ms/step - loss: 0.0848 - accuracy: 0.9707 - val_loss: 0.5487 - val_accuracy: 0.8383\n",
            "Epoch 8/10\n",
            "125/125 [==============================] - 73s 588ms/step - loss: 0.0847 - accuracy: 0.9705 - val_loss: 0.6155 - val_accuracy: 0.8433\n",
            "Epoch 9/10\n",
            "125/125 [==============================] - 73s 583ms/step - loss: 0.0705 - accuracy: 0.9750 - val_loss: 0.5821 - val_accuracy: 0.8383\n",
            "Epoch 10/10\n",
            "125/125 [==============================] - 73s 585ms/step - loss: 0.0672 - accuracy: 0.9785 - val_loss: 0.6443 - val_accuracy: 0.8353\n"
          ]
        }
      ]
    },
    {
      "cell_type": "code",
      "metadata": {
        "colab": {
          "base_uri": "https://localhost:8080/",
          "height": 545
        },
        "id": "T-dm-uYXJZQW",
        "outputId": "82de6127-85b2-4884-a4b8-b19ab3c9ace9"
      },
      "source": [
        "acc = history.history['accuracy']\n",
        "val_acc = history.history['val_accuracy']\n",
        "loss = history.history['loss']\n",
        "val_loss = history.history['val_loss']\n",
        "epochs = range(1, len(acc) + 1)\n",
        "\n",
        "plt.title('Training and validation accuracy')\n",
        "plt.plot(epochs, acc, label = 'Training accuracy', marker = 'o')\n",
        "plt.plot(epochs, val_acc, label = 'Validation accuracy', marker = 'o')\n",
        "plt.legend()\n",
        "\n",
        "plt.figure()\n",
        "plt.title('Training and validation loss')\n",
        "plt.plot(epochs, loss, label='Training loss', marker = 'o')\n",
        "plt.plot(epochs, val_loss, label='Validation loss', marker = 'o')\n",
        "\n",
        "plt.legend()\n",
        "\n",
        "plt.show()"
      ],
      "execution_count": 77,
      "outputs": [
        {
          "output_type": "display_data",
          "data": {
            "image/png": "[encoded data removed]",
            "text/plain": [
              "<Figure size 432x288 with 1 Axes>"
            ]
          },
          "metadata": {
            "needs_background": "light"
          }
        },
        {
          "output_type": "display_data",
          "data": {
            "image/png": "[encoded data removed]",
            "text/plain": [
              "<Figure size 432x288 with 1 Axes>"
            ]
          },
          "metadata": {
            "needs_background": "light"
          }
        }
      ]
    }
  ]
}